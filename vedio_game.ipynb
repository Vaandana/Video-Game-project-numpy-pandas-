{
 "cells": [
  {
   "cell_type": "markdown",
   "id": "ae75c1f2",
   "metadata": {},
   "source": [
    "# Vedio Game Analysis"
   ]
  },
  {
   "cell_type": "markdown",
   "id": "9e23dde7",
   "metadata": {},
   "source": [
    "# IMPORTING THE LIBRARIES"
   ]
  },
  {
   "cell_type": "code",
   "execution_count": 112,
   "id": "d7349e6e",
   "metadata": {},
   "outputs": [],
   "source": [
    "import numpy as np \n",
    "import pandas as pd \n",
    "import matplotlib.pyplot as plt \n",
    "import seaborn as sns"
   ]
  },
  {
   "cell_type": "markdown",
   "id": "d26427f2",
   "metadata": {},
   "source": [
    "# Load the data set "
   ]
  },
  {
   "cell_type": "code",
   "execution_count": 113,
   "id": "18512375",
   "metadata": {},
   "outputs": [],
   "source": [
    "df=pd.read_csv(r\"C:\\Users\\vanda\\OneDrive\\Desktop\\PySpider\\project1\\vgsales.csv\")"
   ]
  },
  {
   "cell_type": "markdown",
   "id": "00094a61",
   "metadata": {},
   "source": [
    "UNDERSTAND EACH COLUMN"
   ]
  },
  {
   "cell_type": "code",
   "execution_count": 114,
   "id": "ca75c1da",
   "metadata": {},
   "outputs": [
    {
     "data": {
      "text/plain": [
       "Index(['Rank', 'Name', 'Platform', 'Year', 'Genre', 'Publisher', 'NA_Sales',\n",
       "       'EU_Sales', 'JP_Sales', 'Other_Sales', 'Global_Sales'],\n",
       "      dtype='object')"
      ]
     },
     "execution_count": 114,
     "metadata": {},
     "output_type": "execute_result"
    }
   ],
   "source": [
    "df.columns"
   ]
  },
  {
   "cell_type": "markdown",
   "id": "d5092692",
   "metadata": {},
   "source": [
    "| Column         | Description                                                      |\n",
    "| -------------- | ---------------------------------------------------------------- |\n",
    "| `Rank`         | Rank of the game based on global sales (1 = highest).            |\n",
    "| `Name`         | Name/title of the video game.                                    |\n",
    "| `Platform`     | Gaming platform (e.g., PS4, Xbox, Wii) the game was released on. |\n",
    "| `Year`         | Year the game was released.                                      |\n",
    "| `Genre`        | Type of game (e.g., Action, Sports, RPG).                        |\n",
    "| `Publisher`    | Name of the company that published the game.                     |\n",
    "| `NA_Sales`     | Sales in North America (in millions of units).                   |\n",
    "| `EU_Sales`     | Sales in Europe (in millions of units).                          |\n",
    "| `JP_Sales`     | Sales in Japan (in millions of units).                           |\n",
    "| `Other_Sales`  | Sales in other regions (in millions of units).                   |\n",
    "| `Global_Sales` | Total global sales (in millions of units).                       |\n"
   ]
  },
  {
   "cell_type": "markdown",
   "id": "49ac2374",
   "metadata": {},
   "source": [
    "GET THE INFORMATION OF COLUMNS AND NOTE THE OBSERVATION"
   ]
  },
  {
   "cell_type": "code",
   "execution_count": 115,
   "id": "9fe6b6ca",
   "metadata": {},
   "outputs": [
    {
     "name": "stdout",
     "output_type": "stream",
     "text": [
      "<class 'pandas.core.frame.DataFrame'>\n",
      "RangeIndex: 16598 entries, 0 to 16597\n",
      "Data columns (total 11 columns):\n",
      " #   Column        Non-Null Count  Dtype  \n",
      "---  ------        --------------  -----  \n",
      " 0   Rank          16598 non-null  int64  \n",
      " 1   Name          16598 non-null  object \n",
      " 2   Platform      16598 non-null  object \n",
      " 3   Year          16327 non-null  float64\n",
      " 4   Genre         16598 non-null  object \n",
      " 5   Publisher     16540 non-null  object \n",
      " 6   NA_Sales      16598 non-null  float64\n",
      " 7   EU_Sales      16598 non-null  float64\n",
      " 8   JP_Sales      16598 non-null  float64\n",
      " 9   Other_Sales   16598 non-null  float64\n",
      " 10  Global_Sales  16598 non-null  float64\n",
      "dtypes: float64(6), int64(1), object(4)\n",
      "memory usage: 1.4+ MB\n"
     ]
    }
   ],
   "source": [
    "df.info()"
   ]
  },
  {
   "cell_type": "markdown",
   "id": "79341986",
   "metadata": {},
   "source": [
    "Observation\n",
    "\n",
    "year - contains the 271  missing values\n",
    "\n",
    "publisher - it has 58 missing values\n",
    "\n",
    "year -  this column is in float dtype"
   ]
  },
  {
   "cell_type": "markdown",
   "id": "93d39032",
   "metadata": {},
   "source": [
    "understand the data inside the dataframe using head()"
   ]
  },
  {
   "cell_type": "code",
   "execution_count": 116,
   "id": "eea81cad",
   "metadata": {},
   "outputs": [
    {
     "data": {
      "text/html": [
       "<div>\n",
       "<style scoped>\n",
       "    .dataframe tbody tr th:only-of-type {\n",
       "        vertical-align: middle;\n",
       "    }\n",
       "\n",
       "    .dataframe tbody tr th {\n",
       "        vertical-align: top;\n",
       "    }\n",
       "\n",
       "    .dataframe thead th {\n",
       "        text-align: right;\n",
       "    }\n",
       "</style>\n",
       "<table border=\"1\" class=\"dataframe\">\n",
       "  <thead>\n",
       "    <tr style=\"text-align: right;\">\n",
       "      <th></th>\n",
       "      <th>Rank</th>\n",
       "      <th>Name</th>\n",
       "      <th>Platform</th>\n",
       "      <th>Year</th>\n",
       "      <th>Genre</th>\n",
       "      <th>Publisher</th>\n",
       "      <th>NA_Sales</th>\n",
       "      <th>EU_Sales</th>\n",
       "      <th>JP_Sales</th>\n",
       "      <th>Other_Sales</th>\n",
       "      <th>Global_Sales</th>\n",
       "    </tr>\n",
       "  </thead>\n",
       "  <tbody>\n",
       "    <tr>\n",
       "      <th>0</th>\n",
       "      <td>1</td>\n",
       "      <td>Wii Sports</td>\n",
       "      <td>Wii</td>\n",
       "      <td>2006.0</td>\n",
       "      <td>Sports</td>\n",
       "      <td>Nintendo</td>\n",
       "      <td>41.49</td>\n",
       "      <td>29.02</td>\n",
       "      <td>3.77</td>\n",
       "      <td>8.46</td>\n",
       "      <td>82.74</td>\n",
       "    </tr>\n",
       "    <tr>\n",
       "      <th>1</th>\n",
       "      <td>2</td>\n",
       "      <td>Super Mario Bros.</td>\n",
       "      <td>NES</td>\n",
       "      <td>1985.0</td>\n",
       "      <td>Platform</td>\n",
       "      <td>Nintendo</td>\n",
       "      <td>29.08</td>\n",
       "      <td>3.58</td>\n",
       "      <td>6.81</td>\n",
       "      <td>0.77</td>\n",
       "      <td>40.24</td>\n",
       "    </tr>\n",
       "    <tr>\n",
       "      <th>2</th>\n",
       "      <td>3</td>\n",
       "      <td>Mario Kart Wii</td>\n",
       "      <td>Wii</td>\n",
       "      <td>2008.0</td>\n",
       "      <td>Racing</td>\n",
       "      <td>Nintendo</td>\n",
       "      <td>15.85</td>\n",
       "      <td>12.88</td>\n",
       "      <td>3.79</td>\n",
       "      <td>3.31</td>\n",
       "      <td>35.82</td>\n",
       "    </tr>\n",
       "    <tr>\n",
       "      <th>3</th>\n",
       "      <td>4</td>\n",
       "      <td>Wii Sports Resort</td>\n",
       "      <td>Wii</td>\n",
       "      <td>2009.0</td>\n",
       "      <td>Sports</td>\n",
       "      <td>Nintendo</td>\n",
       "      <td>15.75</td>\n",
       "      <td>11.01</td>\n",
       "      <td>3.28</td>\n",
       "      <td>2.96</td>\n",
       "      <td>33.00</td>\n",
       "    </tr>\n",
       "    <tr>\n",
       "      <th>4</th>\n",
       "      <td>5</td>\n",
       "      <td>Pokemon Red/Pokemon Blue</td>\n",
       "      <td>GB</td>\n",
       "      <td>1996.0</td>\n",
       "      <td>Role-Playing</td>\n",
       "      <td>Nintendo</td>\n",
       "      <td>11.27</td>\n",
       "      <td>8.89</td>\n",
       "      <td>10.22</td>\n",
       "      <td>1.00</td>\n",
       "      <td>31.37</td>\n",
       "    </tr>\n",
       "  </tbody>\n",
       "</table>\n",
       "</div>"
      ],
      "text/plain": [
       "   Rank                      Name Platform    Year         Genre Publisher  \\\n",
       "0     1                Wii Sports      Wii  2006.0        Sports  Nintendo   \n",
       "1     2         Super Mario Bros.      NES  1985.0      Platform  Nintendo   \n",
       "2     3            Mario Kart Wii      Wii  2008.0        Racing  Nintendo   \n",
       "3     4         Wii Sports Resort      Wii  2009.0        Sports  Nintendo   \n",
       "4     5  Pokemon Red/Pokemon Blue       GB  1996.0  Role-Playing  Nintendo   \n",
       "\n",
       "   NA_Sales  EU_Sales  JP_Sales  Other_Sales  Global_Sales  \n",
       "0     41.49     29.02      3.77         8.46         82.74  \n",
       "1     29.08      3.58      6.81         0.77         40.24  \n",
       "2     15.85     12.88      3.79         3.31         35.82  \n",
       "3     15.75     11.01      3.28         2.96         33.00  \n",
       "4     11.27      8.89     10.22         1.00         31.37  "
      ]
     },
     "execution_count": 116,
     "metadata": {},
     "output_type": "execute_result"
    }
   ],
   "source": [
    "df.head()\n"
   ]
  },
  {
   "cell_type": "markdown",
   "id": "637a6784",
   "metadata": {},
   "source": [
    "# Data cleaning"
   ]
  },
  {
   "cell_type": "markdown",
   "id": "1d7b7870",
   "metadata": {},
   "source": [
    "1. Check for Missing Values"
   ]
  },
  {
   "cell_type": "code",
   "execution_count": 117,
   "id": "0d904f73",
   "metadata": {},
   "outputs": [
    {
     "data": {
      "text/plain": [
       "Rank              0\n",
       "Name              0\n",
       "Platform          0\n",
       "Year            271\n",
       "Genre             0\n",
       "Publisher        58\n",
       "NA_Sales          0\n",
       "EU_Sales          0\n",
       "JP_Sales          0\n",
       "Other_Sales       0\n",
       "Global_Sales      0\n",
       "dtype: int64"
      ]
     },
     "execution_count": 117,
     "metadata": {},
     "output_type": "execute_result"
    }
   ],
   "source": [
    "df.isnull().sum()"
   ]
  },
  {
   "cell_type": "markdown",
   "id": "a16407f1",
   "metadata": {},
   "source": [
    "2. Fill Missing Values in Year with Mode"
   ]
  },
  {
   "cell_type": "code",
   "execution_count": 118,
   "id": "2ad0c3f5",
   "metadata": {},
   "outputs": [],
   "source": [
    "# Replace missing years with the most frequent year and publisher with unkonwn\n",
    "year_mode = df['Year'].mode()[0]\n",
    "df['Year'] = df['Year'].fillna(year_mode)\n",
    "\n",
    "df['Publisher'] = df['Publisher'].fillna('Unknown')\n",
    "\n"
   ]
  },
  {
   "cell_type": "code",
   "execution_count": 119,
   "id": "c1387dc9",
   "metadata": {},
   "outputs": [
    {
     "data": {
      "text/plain": [
       "Rank            0\n",
       "Name            0\n",
       "Platform        0\n",
       "Year            0\n",
       "Genre           0\n",
       "Publisher       0\n",
       "NA_Sales        0\n",
       "EU_Sales        0\n",
       "JP_Sales        0\n",
       "Other_Sales     0\n",
       "Global_Sales    0\n",
       "dtype: int64"
      ]
     },
     "execution_count": 119,
     "metadata": {},
     "output_type": "execute_result"
    }
   ],
   "source": [
    "df.isnull().sum()"
   ]
  },
  {
   "cell_type": "code",
   "execution_count": 120,
   "id": "17f23128",
   "metadata": {},
   "outputs": [
    {
     "data": {
      "text/html": [
       "<div>\n",
       "<style scoped>\n",
       "    .dataframe tbody tr th:only-of-type {\n",
       "        vertical-align: middle;\n",
       "    }\n",
       "\n",
       "    .dataframe tbody tr th {\n",
       "        vertical-align: top;\n",
       "    }\n",
       "\n",
       "    .dataframe thead th {\n",
       "        text-align: right;\n",
       "    }\n",
       "</style>\n",
       "<table border=\"1\" class=\"dataframe\">\n",
       "  <thead>\n",
       "    <tr style=\"text-align: right;\">\n",
       "      <th></th>\n",
       "      <th>Rank</th>\n",
       "      <th>Year</th>\n",
       "      <th>NA_Sales</th>\n",
       "      <th>EU_Sales</th>\n",
       "      <th>JP_Sales</th>\n",
       "      <th>Other_Sales</th>\n",
       "      <th>Global_Sales</th>\n",
       "    </tr>\n",
       "  </thead>\n",
       "  <tbody>\n",
       "    <tr>\n",
       "      <th>count</th>\n",
       "      <td>16598.000000</td>\n",
       "      <td>16598.000000</td>\n",
       "      <td>16598.000000</td>\n",
       "      <td>16598.000000</td>\n",
       "      <td>16598.000000</td>\n",
       "      <td>16598.000000</td>\n",
       "      <td>16598.000000</td>\n",
       "    </tr>\n",
       "    <tr>\n",
       "      <th>mean</th>\n",
       "      <td>8300.605254</td>\n",
       "      <td>2006.448789</td>\n",
       "      <td>0.264667</td>\n",
       "      <td>0.146652</td>\n",
       "      <td>0.077782</td>\n",
       "      <td>0.048063</td>\n",
       "      <td>0.537441</td>\n",
       "    </tr>\n",
       "    <tr>\n",
       "      <th>std</th>\n",
       "      <td>4791.853933</td>\n",
       "      <td>5.790533</td>\n",
       "      <td>0.816683</td>\n",
       "      <td>0.505351</td>\n",
       "      <td>0.309291</td>\n",
       "      <td>0.188588</td>\n",
       "      <td>1.555028</td>\n",
       "    </tr>\n",
       "    <tr>\n",
       "      <th>min</th>\n",
       "      <td>1.000000</td>\n",
       "      <td>1980.000000</td>\n",
       "      <td>0.000000</td>\n",
       "      <td>0.000000</td>\n",
       "      <td>0.000000</td>\n",
       "      <td>0.000000</td>\n",
       "      <td>0.010000</td>\n",
       "    </tr>\n",
       "    <tr>\n",
       "      <th>25%</th>\n",
       "      <td>4151.250000</td>\n",
       "      <td>2003.000000</td>\n",
       "      <td>0.000000</td>\n",
       "      <td>0.000000</td>\n",
       "      <td>0.000000</td>\n",
       "      <td>0.000000</td>\n",
       "      <td>0.060000</td>\n",
       "    </tr>\n",
       "    <tr>\n",
       "      <th>50%</th>\n",
       "      <td>8300.500000</td>\n",
       "      <td>2007.000000</td>\n",
       "      <td>0.080000</td>\n",
       "      <td>0.020000</td>\n",
       "      <td>0.000000</td>\n",
       "      <td>0.010000</td>\n",
       "      <td>0.170000</td>\n",
       "    </tr>\n",
       "    <tr>\n",
       "      <th>75%</th>\n",
       "      <td>12449.750000</td>\n",
       "      <td>2010.000000</td>\n",
       "      <td>0.240000</td>\n",
       "      <td>0.110000</td>\n",
       "      <td>0.040000</td>\n",
       "      <td>0.040000</td>\n",
       "      <td>0.470000</td>\n",
       "    </tr>\n",
       "    <tr>\n",
       "      <th>max</th>\n",
       "      <td>16600.000000</td>\n",
       "      <td>2020.000000</td>\n",
       "      <td>41.490000</td>\n",
       "      <td>29.020000</td>\n",
       "      <td>10.220000</td>\n",
       "      <td>10.570000</td>\n",
       "      <td>82.740000</td>\n",
       "    </tr>\n",
       "  </tbody>\n",
       "</table>\n",
       "</div>"
      ],
      "text/plain": [
       "               Rank          Year      NA_Sales      EU_Sales      JP_Sales  \\\n",
       "count  16598.000000  16598.000000  16598.000000  16598.000000  16598.000000   \n",
       "mean    8300.605254   2006.448789      0.264667      0.146652      0.077782   \n",
       "std     4791.853933      5.790533      0.816683      0.505351      0.309291   \n",
       "min        1.000000   1980.000000      0.000000      0.000000      0.000000   \n",
       "25%     4151.250000   2003.000000      0.000000      0.000000      0.000000   \n",
       "50%     8300.500000   2007.000000      0.080000      0.020000      0.000000   \n",
       "75%    12449.750000   2010.000000      0.240000      0.110000      0.040000   \n",
       "max    16600.000000   2020.000000     41.490000     29.020000     10.220000   \n",
       "\n",
       "        Other_Sales  Global_Sales  \n",
       "count  16598.000000  16598.000000  \n",
       "mean       0.048063      0.537441  \n",
       "std        0.188588      1.555028  \n",
       "min        0.000000      0.010000  \n",
       "25%        0.000000      0.060000  \n",
       "50%        0.010000      0.170000  \n",
       "75%        0.040000      0.470000  \n",
       "max       10.570000     82.740000  "
      ]
     },
     "execution_count": 120,
     "metadata": {},
     "output_type": "execute_result"
    }
   ],
   "source": [
    "df.describe()"
   ]
  },
  {
   "cell_type": "markdown",
   "id": "e8fd221a",
   "metadata": {},
   "source": [
    "3. Convert Year to Integer"
   ]
  },
  {
   "cell_type": "code",
   "execution_count": 121,
   "id": "dad0ef12",
   "metadata": {},
   "outputs": [],
   "source": [
    "df['Year'] = df['Year'].astype(int)"
   ]
  },
  {
   "cell_type": "code",
   "execution_count": 122,
   "id": "3602b8bd",
   "metadata": {},
   "outputs": [
    {
     "data": {
      "text/plain": [
       "0        2006\n",
       "1        1985\n",
       "2        2008\n",
       "3        2009\n",
       "4        1996\n",
       "         ... \n",
       "16593    2002\n",
       "16594    2003\n",
       "16595    2008\n",
       "16596    2010\n",
       "16597    2003\n",
       "Name: Year, Length: 16598, dtype: int64"
      ]
     },
     "execution_count": 122,
     "metadata": {},
     "output_type": "execute_result"
    }
   ],
   "source": [
    "df['Year']"
   ]
  },
  {
   "cell_type": "code",
   "execution_count": 123,
   "id": "3212bdac",
   "metadata": {},
   "outputs": [
    {
     "data": {
      "text/html": [
       "<div>\n",
       "<style scoped>\n",
       "    .dataframe tbody tr th:only-of-type {\n",
       "        vertical-align: middle;\n",
       "    }\n",
       "\n",
       "    .dataframe tbody tr th {\n",
       "        vertical-align: top;\n",
       "    }\n",
       "\n",
       "    .dataframe thead th {\n",
       "        text-align: right;\n",
       "    }\n",
       "</style>\n",
       "<table border=\"1\" class=\"dataframe\">\n",
       "  <thead>\n",
       "    <tr style=\"text-align: right;\">\n",
       "      <th></th>\n",
       "      <th>Rank</th>\n",
       "      <th>Name</th>\n",
       "      <th>Platform</th>\n",
       "      <th>Year</th>\n",
       "      <th>Genre</th>\n",
       "      <th>Publisher</th>\n",
       "      <th>NA_Sales</th>\n",
       "      <th>EU_Sales</th>\n",
       "      <th>JP_Sales</th>\n",
       "      <th>Other_Sales</th>\n",
       "      <th>Global_Sales</th>\n",
       "    </tr>\n",
       "  </thead>\n",
       "  <tbody>\n",
       "    <tr>\n",
       "      <th>0</th>\n",
       "      <td>1</td>\n",
       "      <td>Wii Sports</td>\n",
       "      <td>Wii</td>\n",
       "      <td>2006</td>\n",
       "      <td>Sports</td>\n",
       "      <td>Nintendo</td>\n",
       "      <td>41.49</td>\n",
       "      <td>29.02</td>\n",
       "      <td>3.77</td>\n",
       "      <td>8.46</td>\n",
       "      <td>82.74</td>\n",
       "    </tr>\n",
       "    <tr>\n",
       "      <th>1</th>\n",
       "      <td>2</td>\n",
       "      <td>Super Mario Bros.</td>\n",
       "      <td>NES</td>\n",
       "      <td>1985</td>\n",
       "      <td>Platform</td>\n",
       "      <td>Nintendo</td>\n",
       "      <td>29.08</td>\n",
       "      <td>3.58</td>\n",
       "      <td>6.81</td>\n",
       "      <td>0.77</td>\n",
       "      <td>40.24</td>\n",
       "    </tr>\n",
       "    <tr>\n",
       "      <th>2</th>\n",
       "      <td>3</td>\n",
       "      <td>Mario Kart Wii</td>\n",
       "      <td>Wii</td>\n",
       "      <td>2008</td>\n",
       "      <td>Racing</td>\n",
       "      <td>Nintendo</td>\n",
       "      <td>15.85</td>\n",
       "      <td>12.88</td>\n",
       "      <td>3.79</td>\n",
       "      <td>3.31</td>\n",
       "      <td>35.82</td>\n",
       "    </tr>\n",
       "    <tr>\n",
       "      <th>3</th>\n",
       "      <td>4</td>\n",
       "      <td>Wii Sports Resort</td>\n",
       "      <td>Wii</td>\n",
       "      <td>2009</td>\n",
       "      <td>Sports</td>\n",
       "      <td>Nintendo</td>\n",
       "      <td>15.75</td>\n",
       "      <td>11.01</td>\n",
       "      <td>3.28</td>\n",
       "      <td>2.96</td>\n",
       "      <td>33.00</td>\n",
       "    </tr>\n",
       "    <tr>\n",
       "      <th>4</th>\n",
       "      <td>5</td>\n",
       "      <td>Pokemon Red/Pokemon Blue</td>\n",
       "      <td>GB</td>\n",
       "      <td>1996</td>\n",
       "      <td>Role-Playing</td>\n",
       "      <td>Nintendo</td>\n",
       "      <td>11.27</td>\n",
       "      <td>8.89</td>\n",
       "      <td>10.22</td>\n",
       "      <td>1.00</td>\n",
       "      <td>31.37</td>\n",
       "    </tr>\n",
       "  </tbody>\n",
       "</table>\n",
       "</div>"
      ],
      "text/plain": [
       "   Rank                      Name Platform  Year         Genre Publisher  \\\n",
       "0     1                Wii Sports      Wii  2006        Sports  Nintendo   \n",
       "1     2         Super Mario Bros.      NES  1985      Platform  Nintendo   \n",
       "2     3            Mario Kart Wii      Wii  2008        Racing  Nintendo   \n",
       "3     4         Wii Sports Resort      Wii  2009        Sports  Nintendo   \n",
       "4     5  Pokemon Red/Pokemon Blue       GB  1996  Role-Playing  Nintendo   \n",
       "\n",
       "   NA_Sales  EU_Sales  JP_Sales  Other_Sales  Global_Sales  \n",
       "0     41.49     29.02      3.77         8.46         82.74  \n",
       "1     29.08      3.58      6.81         0.77         40.24  \n",
       "2     15.85     12.88      3.79         3.31         35.82  \n",
       "3     15.75     11.01      3.28         2.96         33.00  \n",
       "4     11.27      8.89     10.22         1.00         31.37  "
      ]
     },
     "execution_count": 123,
     "metadata": {},
     "output_type": "execute_result"
    }
   ],
   "source": [
    "df.head()"
   ]
  },
  {
   "cell_type": "markdown",
   "id": "44faebeb",
   "metadata": {},
   "source": [
    "4. Drop rows with missing 'Name' or 'Platform'"
   ]
  },
  {
   "cell_type": "code",
   "execution_count": 124,
   "id": "82d554c4",
   "metadata": {},
   "outputs": [],
   "source": [
    "df.dropna(subset=['Name', 'Platform'], inplace=True)"
   ]
  },
  {
   "cell_type": "markdown",
   "id": "6cf9d41f",
   "metadata": {},
   "source": [
    "5. check and Remove duplicates"
   ]
  },
  {
   "cell_type": "code",
   "execution_count": 125,
   "id": "ee5668cf",
   "metadata": {},
   "outputs": [
    {
     "data": {
      "text/plain": [
       "np.False_"
      ]
     },
     "execution_count": 125,
     "metadata": {},
     "output_type": "execute_result"
    }
   ],
   "source": [
    "df.duplicated().any()"
   ]
  },
  {
   "cell_type": "markdown",
   "id": "e4d8c4ef",
   "metadata": {},
   "source": [
    "6. Recalculate Global Sales and fix mismatches"
   ]
  },
  {
   "cell_type": "code",
   "execution_count": 126,
   "id": "6c3c9580",
   "metadata": {},
   "outputs": [],
   "source": [
    "# Step 1: Recalculate Global Sales from regional data\n",
    "df['Calculated_Global'] = df[['NA_Sales', 'EU_Sales', 'JP_Sales', 'Other_Sales']].sum(axis=1)\n",
    "\n",
    "# Step 2: If there's a mismatch, update the Global_Sales\n",
    "df.loc[(df['Global_Sales'] - df['Calculated_Global']).abs() > 0.01, 'Global_Sales'] = df['Calculated_Global']\n",
    "\n",
    "# Step 3: Drop the helper column\n",
    "df.drop(columns=['Calculated_Global'], inplace=True)"
   ]
  },
  {
   "cell_type": "code",
   "execution_count": 127,
   "id": "2ecae7ff",
   "metadata": {},
   "outputs": [
    {
     "name": "stdout",
     "output_type": "stream",
     "text": [
      "<class 'pandas.core.frame.DataFrame'>\n",
      "RangeIndex: 16598 entries, 0 to 16597\n",
      "Data columns (total 11 columns):\n",
      " #   Column        Non-Null Count  Dtype  \n",
      "---  ------        --------------  -----  \n",
      " 0   Rank          16598 non-null  int64  \n",
      " 1   Name          16598 non-null  object \n",
      " 2   Platform      16598 non-null  object \n",
      " 3   Year          16598 non-null  int64  \n",
      " 4   Genre         16598 non-null  object \n",
      " 5   Publisher     16598 non-null  object \n",
      " 6   NA_Sales      16598 non-null  float64\n",
      " 7   EU_Sales      16598 non-null  float64\n",
      " 8   JP_Sales      16598 non-null  float64\n",
      " 9   Other_Sales   16598 non-null  float64\n",
      " 10  Global_Sales  16598 non-null  float64\n",
      "dtypes: float64(5), int64(2), object(4)\n",
      "memory usage: 1.4+ MB\n"
     ]
    }
   ],
   "source": [
    "df.info()"
   ]
  },
  {
   "cell_type": "code",
   "execution_count": 128,
   "id": "1e542615",
   "metadata": {},
   "outputs": [
    {
     "data": {
      "text/plain": [
       "Rank            0\n",
       "Name            0\n",
       "Platform        0\n",
       "Year            0\n",
       "Genre           0\n",
       "Publisher       0\n",
       "NA_Sales        0\n",
       "EU_Sales        0\n",
       "JP_Sales        0\n",
       "Other_Sales     0\n",
       "Global_Sales    0\n",
       "dtype: int64"
      ]
     },
     "execution_count": 128,
     "metadata": {},
     "output_type": "execute_result"
    }
   ],
   "source": [
    "df.isnull().sum()"
   ]
  },
  {
   "cell_type": "markdown",
   "id": "62c09f46",
   "metadata": {},
   "source": [
    "# DATA TRANSFORMATION"
   ]
  },
  {
   "cell_type": "code",
   "execution_count": 129,
   "id": "5e0765e3",
   "metadata": {},
   "outputs": [
    {
     "data": {
      "text/plain": [
       "Index(['Rank', 'Name', 'Platform', 'Year', 'Genre', 'Publisher', 'NA_Sales',\n",
       "       'EU_Sales', 'JP_Sales', 'Other_Sales', 'Global_Sales'],\n",
       "      dtype='object')"
      ]
     },
     "execution_count": 129,
     "metadata": {},
     "output_type": "execute_result"
    }
   ],
   "source": [
    "df.columns"
   ]
  },
  {
   "cell_type": "markdown",
   "id": "e79cb788",
   "metadata": {},
   "source": [
    "1. Create a column with the region that had the highest sales for each game"
   ]
  },
  {
   "cell_type": "code",
   "execution_count": 130,
   "id": "4aa382d0",
   "metadata": {},
   "outputs": [],
   "source": [
    "\n",
    "df['Top_Region'] = df[['NA_Sales', 'EU_Sales', 'JP_Sales', 'Other_Sales']].idxmax(axis=1)\n",
    "\n",
    "# Compares sales across regions and assigns the region with the \n",
    "# maximum value to a new column Top_Region."
   ]
  },
  {
   "cell_type": "code",
   "execution_count": 131,
   "id": "babd6f83",
   "metadata": {},
   "outputs": [
    {
     "data": {
      "text/plain": [
       "0        NA_Sales\n",
       "1        NA_Sales\n",
       "2        NA_Sales\n",
       "3        NA_Sales\n",
       "4        NA_Sales\n",
       "           ...   \n",
       "16593    NA_Sales\n",
       "16594    NA_Sales\n",
       "16595    NA_Sales\n",
       "16596    EU_Sales\n",
       "16597    NA_Sales\n",
       "Name: Top_Region, Length: 16598, dtype: object"
      ]
     },
     "execution_count": 131,
     "metadata": {},
     "output_type": "execute_result"
    }
   ],
   "source": [
    "df['Top_Region']"
   ]
  },
  {
   "cell_type": "markdown",
   "id": "5b6f1691",
   "metadata": {},
   "source": [
    "2.classify games into \"High\", \"Medium\", \"Low\" sellers based on global sales?"
   ]
  },
  {
   "cell_type": "code",
   "execution_count": 132,
   "id": "781c7f9f",
   "metadata": {},
   "outputs": [],
   "source": [
    "def classify_sales(sales):\n",
    "    if sales >= 20:\n",
    "        return 'High'\n",
    "    elif sales >= 5:\n",
    "        return 'Medium'\n",
    "    else:\n",
    "        return 'Low'\n",
    "\n",
    "df['Sales_Category'] = df['Global_Sales'].apply(classify_sales)"
   ]
  },
  {
   "cell_type": "code",
   "execution_count": 133,
   "id": "d52a3ba9",
   "metadata": {},
   "outputs": [
    {
     "data": {
      "text/html": [
       "<div>\n",
       "<style scoped>\n",
       "    .dataframe tbody tr th:only-of-type {\n",
       "        vertical-align: middle;\n",
       "    }\n",
       "\n",
       "    .dataframe tbody tr th {\n",
       "        vertical-align: top;\n",
       "    }\n",
       "\n",
       "    .dataframe thead th {\n",
       "        text-align: right;\n",
       "    }\n",
       "</style>\n",
       "<table border=\"1\" class=\"dataframe\">\n",
       "  <thead>\n",
       "    <tr style=\"text-align: right;\">\n",
       "      <th></th>\n",
       "      <th>Rank</th>\n",
       "      <th>Name</th>\n",
       "      <th>Platform</th>\n",
       "      <th>Year</th>\n",
       "      <th>Genre</th>\n",
       "      <th>Publisher</th>\n",
       "      <th>NA_Sales</th>\n",
       "      <th>EU_Sales</th>\n",
       "      <th>JP_Sales</th>\n",
       "      <th>Other_Sales</th>\n",
       "      <th>Global_Sales</th>\n",
       "      <th>Top_Region</th>\n",
       "      <th>Sales_Category</th>\n",
       "    </tr>\n",
       "  </thead>\n",
       "  <tbody>\n",
       "    <tr>\n",
       "      <th>0</th>\n",
       "      <td>1</td>\n",
       "      <td>Wii Sports</td>\n",
       "      <td>Wii</td>\n",
       "      <td>2006</td>\n",
       "      <td>Sports</td>\n",
       "      <td>Nintendo</td>\n",
       "      <td>41.49</td>\n",
       "      <td>29.02</td>\n",
       "      <td>3.77</td>\n",
       "      <td>8.46</td>\n",
       "      <td>82.74</td>\n",
       "      <td>NA_Sales</td>\n",
       "      <td>High</td>\n",
       "    </tr>\n",
       "    <tr>\n",
       "      <th>1</th>\n",
       "      <td>2</td>\n",
       "      <td>Super Mario Bros.</td>\n",
       "      <td>NES</td>\n",
       "      <td>1985</td>\n",
       "      <td>Platform</td>\n",
       "      <td>Nintendo</td>\n",
       "      <td>29.08</td>\n",
       "      <td>3.58</td>\n",
       "      <td>6.81</td>\n",
       "      <td>0.77</td>\n",
       "      <td>40.24</td>\n",
       "      <td>NA_Sales</td>\n",
       "      <td>High</td>\n",
       "    </tr>\n",
       "    <tr>\n",
       "      <th>2</th>\n",
       "      <td>3</td>\n",
       "      <td>Mario Kart Wii</td>\n",
       "      <td>Wii</td>\n",
       "      <td>2008</td>\n",
       "      <td>Racing</td>\n",
       "      <td>Nintendo</td>\n",
       "      <td>15.85</td>\n",
       "      <td>12.88</td>\n",
       "      <td>3.79</td>\n",
       "      <td>3.31</td>\n",
       "      <td>35.83</td>\n",
       "      <td>NA_Sales</td>\n",
       "      <td>High</td>\n",
       "    </tr>\n",
       "    <tr>\n",
       "      <th>3</th>\n",
       "      <td>4</td>\n",
       "      <td>Wii Sports Resort</td>\n",
       "      <td>Wii</td>\n",
       "      <td>2009</td>\n",
       "      <td>Sports</td>\n",
       "      <td>Nintendo</td>\n",
       "      <td>15.75</td>\n",
       "      <td>11.01</td>\n",
       "      <td>3.28</td>\n",
       "      <td>2.96</td>\n",
       "      <td>33.00</td>\n",
       "      <td>NA_Sales</td>\n",
       "      <td>High</td>\n",
       "    </tr>\n",
       "    <tr>\n",
       "      <th>4</th>\n",
       "      <td>5</td>\n",
       "      <td>Pokemon Red/Pokemon Blue</td>\n",
       "      <td>GB</td>\n",
       "      <td>1996</td>\n",
       "      <td>Role-Playing</td>\n",
       "      <td>Nintendo</td>\n",
       "      <td>11.27</td>\n",
       "      <td>8.89</td>\n",
       "      <td>10.22</td>\n",
       "      <td>1.00</td>\n",
       "      <td>31.38</td>\n",
       "      <td>NA_Sales</td>\n",
       "      <td>High</td>\n",
       "    </tr>\n",
       "  </tbody>\n",
       "</table>\n",
       "</div>"
      ],
      "text/plain": [
       "   Rank                      Name Platform  Year         Genre Publisher  \\\n",
       "0     1                Wii Sports      Wii  2006        Sports  Nintendo   \n",
       "1     2         Super Mario Bros.      NES  1985      Platform  Nintendo   \n",
       "2     3            Mario Kart Wii      Wii  2008        Racing  Nintendo   \n",
       "3     4         Wii Sports Resort      Wii  2009        Sports  Nintendo   \n",
       "4     5  Pokemon Red/Pokemon Blue       GB  1996  Role-Playing  Nintendo   \n",
       "\n",
       "   NA_Sales  EU_Sales  JP_Sales  Other_Sales  Global_Sales Top_Region  \\\n",
       "0     41.49     29.02      3.77         8.46         82.74   NA_Sales   \n",
       "1     29.08      3.58      6.81         0.77         40.24   NA_Sales   \n",
       "2     15.85     12.88      3.79         3.31         35.83   NA_Sales   \n",
       "3     15.75     11.01      3.28         2.96         33.00   NA_Sales   \n",
       "4     11.27      8.89     10.22         1.00         31.38   NA_Sales   \n",
       "\n",
       "  Sales_Category  \n",
       "0           High  \n",
       "1           High  \n",
       "2           High  \n",
       "3           High  \n",
       "4           High  "
      ]
     },
     "execution_count": 133,
     "metadata": {},
     "output_type": "execute_result"
    }
   ],
   "source": [
    "df.head()"
   ]
  },
  {
   "cell_type": "markdown",
   "id": "de063d09",
   "metadata": {},
   "source": [
    "3. extract the decade from the release year?"
   ]
  },
  {
   "cell_type": "code",
   "execution_count": 134,
   "id": "936caec2",
   "metadata": {},
   "outputs": [],
   "source": [
    "df['Decade'] = (df['Year'] // 10) * 10"
   ]
  },
  {
   "cell_type": "code",
   "execution_count": 135,
   "id": "24bf77ff",
   "metadata": {},
   "outputs": [
    {
     "data": {
      "text/plain": [
       "0        2000\n",
       "1        1980\n",
       "2        2000\n",
       "3        2000\n",
       "4        1990\n",
       "         ... \n",
       "16593    2000\n",
       "16594    2000\n",
       "16595    2000\n",
       "16596    2010\n",
       "16597    2000\n",
       "Name: Decade, Length: 16598, dtype: int64"
      ]
     },
     "execution_count": 135,
     "metadata": {},
     "output_type": "execute_result"
    }
   ],
   "source": [
    "df['Decade'] # Groups games by the decade (e.g., 1990s, 2000s) for time-based trend analysis."
   ]
  },
  {
   "cell_type": "markdown",
   "id": "ad583ea7",
   "metadata": {},
   "source": [
    "4. calculate the % share of each region's sales in total global sales?"
   ]
  },
  {
   "cell_type": "code",
   "execution_count": 136,
   "id": "3d83d6af",
   "metadata": {},
   "outputs": [],
   "source": [
    "df['NA_Share'] = (df['NA_Sales'] / df['Global_Sales']) * 100\n",
    "df['EU_Share'] = (df['EU_Sales'] / df['Global_Sales']) * 100\n",
    "df['JP_Share'] = (df['JP_Sales'] / df['Global_Sales']) * 100\n",
    "df['Other_Share'] = (df['Other_Sales'] / df['Global_Sales']) * 100"
   ]
  },
  {
   "cell_type": "code",
   "execution_count": 137,
   "id": "7b177867",
   "metadata": {},
   "outputs": [
    {
     "name": "stdout",
     "output_type": "stream",
     "text": [
      "0         50.145033\n",
      "1         72.266402\n",
      "2         44.236673\n",
      "3         47.727273\n",
      "4         35.914595\n",
      "            ...    \n",
      "16593    100.000000\n",
      "16594    100.000000\n",
      "16595      0.000000\n",
      "16596      0.000000\n",
      "16597    100.000000\n",
      "Name: NA_Share, Length: 16598, dtype: float64\n",
      "0         35.073725\n",
      "1          8.896620\n",
      "2         35.947530\n",
      "3         33.363636\n",
      "4         28.330147\n",
      "            ...    \n",
      "16593      0.000000\n",
      "16594      0.000000\n",
      "16595      0.000000\n",
      "16596    100.000000\n",
      "16597      0.000000\n",
      "Name: EU_Share, Length: 16598, dtype: float64\n",
      "0         4.556442\n",
      "1        16.923459\n",
      "2        10.577728\n",
      "3         9.939394\n",
      "4        32.568515\n",
      "           ...    \n",
      "16593     0.000000\n",
      "16594     0.000000\n",
      "16595     0.000000\n",
      "16596     0.000000\n",
      "16597     0.000000\n",
      "Name: JP_Share, Length: 16598, dtype: float64\n",
      "0        10.224801\n",
      "1         1.913519\n",
      "2         9.238069\n",
      "3         8.969697\n",
      "4         3.186743\n",
      "           ...    \n",
      "16593     0.000000\n",
      "16594     0.000000\n",
      "16595     0.000000\n",
      "16596     0.000000\n",
      "16597     0.000000\n",
      "Name: Other_Share, Length: 16598, dtype: float64\n"
     ]
    }
   ],
   "source": [
    "# Helps to understand where the game is most popular in terms of sales ratio.\n",
    "\n",
    "print(df['NA_Share'])\n",
    "print(df['EU_Share'])\n",
    "print(df['JP_Share'])\n",
    "print(df['Other_Share'])\n"
   ]
  },
  {
   "cell_type": "markdown",
   "id": "a0ff0b9d",
   "metadata": {},
   "source": [
    "5.  check which publishers consistently release high-selling games?"
   ]
  },
  {
   "cell_type": "code",
   "execution_count": 138,
   "id": "4136c517",
   "metadata": {},
   "outputs": [],
   "source": [
    "# Filter only high selling games\n",
    "high_selling = df[df['Sales_Category'] == 'High']\n",
    "\n",
    "# Count high-selling games per publisher\n",
    "publisher_high_sales = high_selling['Publisher'].value_counts()\n"
   ]
  },
  {
   "cell_type": "code",
   "execution_count": 139,
   "id": "dfe61140",
   "metadata": {},
   "outputs": [
    {
     "name": "stdout",
     "output_type": "stream",
     "text": [
      "Publisher\n",
      "Nintendo                  17\n",
      "Take-Two Interactive       2\n",
      "Microsoft Game Studios     1\n",
      "Name: count, dtype: int64\n"
     ]
    }
   ],
   "source": [
    "print(publisher_high_sales )"
   ]
  },
  {
   "cell_type": "markdown",
   "id": "d37e4b39",
   "metadata": {},
   "source": [
    "# Data Analysis"
   ]
  },
  {
   "cell_type": "markdown",
   "id": "2663d8d1",
   "metadata": {},
   "source": [
    "1. What are the top 10 best-selling games globally?"
   ]
  },
  {
   "cell_type": "code",
   "execution_count": 141,
   "id": "be54cdf0",
   "metadata": {},
   "outputs": [
    {
     "data": {
      "text/html": [
       "<div>\n",
       "<style scoped>\n",
       "    .dataframe tbody tr th:only-of-type {\n",
       "        vertical-align: middle;\n",
       "    }\n",
       "\n",
       "    .dataframe tbody tr th {\n",
       "        vertical-align: top;\n",
       "    }\n",
       "\n",
       "    .dataframe thead th {\n",
       "        text-align: right;\n",
       "    }\n",
       "</style>\n",
       "<table border=\"1\" class=\"dataframe\">\n",
       "  <thead>\n",
       "    <tr style=\"text-align: right;\">\n",
       "      <th></th>\n",
       "      <th>Rank</th>\n",
       "      <th>Name</th>\n",
       "      <th>Platform</th>\n",
       "      <th>Year</th>\n",
       "      <th>Genre</th>\n",
       "      <th>Publisher</th>\n",
       "      <th>NA_Sales</th>\n",
       "      <th>EU_Sales</th>\n",
       "      <th>JP_Sales</th>\n",
       "      <th>Other_Sales</th>\n",
       "      <th>Global_Sales</th>\n",
       "      <th>Top_Region</th>\n",
       "      <th>Sales_Category</th>\n",
       "      <th>Decade</th>\n",
       "      <th>NA_Share</th>\n",
       "      <th>EU_Share</th>\n",
       "      <th>JP_Share</th>\n",
       "      <th>Other_Share</th>\n",
       "    </tr>\n",
       "  </thead>\n",
       "  <tbody>\n",
       "    <tr>\n",
       "      <th>0</th>\n",
       "      <td>1</td>\n",
       "      <td>Wii Sports</td>\n",
       "      <td>Wii</td>\n",
       "      <td>2006</td>\n",
       "      <td>Sports</td>\n",
       "      <td>Nintendo</td>\n",
       "      <td>41.49</td>\n",
       "      <td>29.02</td>\n",
       "      <td>3.77</td>\n",
       "      <td>8.46</td>\n",
       "      <td>82.74</td>\n",
       "      <td>NA_Sales</td>\n",
       "      <td>High</td>\n",
       "      <td>2000</td>\n",
       "      <td>50.145033</td>\n",
       "      <td>35.073725</td>\n",
       "      <td>4.556442</td>\n",
       "      <td>10.224801</td>\n",
       "    </tr>\n",
       "    <tr>\n",
       "      <th>1</th>\n",
       "      <td>2</td>\n",
       "      <td>Super Mario Bros.</td>\n",
       "      <td>NES</td>\n",
       "      <td>1985</td>\n",
       "      <td>Platform</td>\n",
       "      <td>Nintendo</td>\n",
       "      <td>29.08</td>\n",
       "      <td>3.58</td>\n",
       "      <td>6.81</td>\n",
       "      <td>0.77</td>\n",
       "      <td>40.24</td>\n",
       "      <td>NA_Sales</td>\n",
       "      <td>High</td>\n",
       "      <td>1980</td>\n",
       "      <td>72.266402</td>\n",
       "      <td>8.896620</td>\n",
       "      <td>16.923459</td>\n",
       "      <td>1.913519</td>\n",
       "    </tr>\n",
       "    <tr>\n",
       "      <th>2</th>\n",
       "      <td>3</td>\n",
       "      <td>Mario Kart Wii</td>\n",
       "      <td>Wii</td>\n",
       "      <td>2008</td>\n",
       "      <td>Racing</td>\n",
       "      <td>Nintendo</td>\n",
       "      <td>15.85</td>\n",
       "      <td>12.88</td>\n",
       "      <td>3.79</td>\n",
       "      <td>3.31</td>\n",
       "      <td>35.83</td>\n",
       "      <td>NA_Sales</td>\n",
       "      <td>High</td>\n",
       "      <td>2000</td>\n",
       "      <td>44.236673</td>\n",
       "      <td>35.947530</td>\n",
       "      <td>10.577728</td>\n",
       "      <td>9.238069</td>\n",
       "    </tr>\n",
       "    <tr>\n",
       "      <th>3</th>\n",
       "      <td>4</td>\n",
       "      <td>Wii Sports Resort</td>\n",
       "      <td>Wii</td>\n",
       "      <td>2009</td>\n",
       "      <td>Sports</td>\n",
       "      <td>Nintendo</td>\n",
       "      <td>15.75</td>\n",
       "      <td>11.01</td>\n",
       "      <td>3.28</td>\n",
       "      <td>2.96</td>\n",
       "      <td>33.00</td>\n",
       "      <td>NA_Sales</td>\n",
       "      <td>High</td>\n",
       "      <td>2000</td>\n",
       "      <td>47.727273</td>\n",
       "      <td>33.363636</td>\n",
       "      <td>9.939394</td>\n",
       "      <td>8.969697</td>\n",
       "    </tr>\n",
       "    <tr>\n",
       "      <th>4</th>\n",
       "      <td>5</td>\n",
       "      <td>Pokemon Red/Pokemon Blue</td>\n",
       "      <td>GB</td>\n",
       "      <td>1996</td>\n",
       "      <td>Role-Playing</td>\n",
       "      <td>Nintendo</td>\n",
       "      <td>11.27</td>\n",
       "      <td>8.89</td>\n",
       "      <td>10.22</td>\n",
       "      <td>1.00</td>\n",
       "      <td>31.38</td>\n",
       "      <td>NA_Sales</td>\n",
       "      <td>High</td>\n",
       "      <td>1990</td>\n",
       "      <td>35.914595</td>\n",
       "      <td>28.330147</td>\n",
       "      <td>32.568515</td>\n",
       "      <td>3.186743</td>\n",
       "    </tr>\n",
       "    <tr>\n",
       "      <th>5</th>\n",
       "      <td>6</td>\n",
       "      <td>Tetris</td>\n",
       "      <td>GB</td>\n",
       "      <td>1989</td>\n",
       "      <td>Puzzle</td>\n",
       "      <td>Nintendo</td>\n",
       "      <td>23.20</td>\n",
       "      <td>2.26</td>\n",
       "      <td>4.22</td>\n",
       "      <td>0.58</td>\n",
       "      <td>30.26</td>\n",
       "      <td>NA_Sales</td>\n",
       "      <td>High</td>\n",
       "      <td>1980</td>\n",
       "      <td>76.668870</td>\n",
       "      <td>7.468605</td>\n",
       "      <td>13.945803</td>\n",
       "      <td>1.916722</td>\n",
       "    </tr>\n",
       "    <tr>\n",
       "      <th>6</th>\n",
       "      <td>7</td>\n",
       "      <td>New Super Mario Bros.</td>\n",
       "      <td>DS</td>\n",
       "      <td>2006</td>\n",
       "      <td>Platform</td>\n",
       "      <td>Nintendo</td>\n",
       "      <td>11.38</td>\n",
       "      <td>9.23</td>\n",
       "      <td>6.50</td>\n",
       "      <td>2.90</td>\n",
       "      <td>30.01</td>\n",
       "      <td>NA_Sales</td>\n",
       "      <td>High</td>\n",
       "      <td>2000</td>\n",
       "      <td>37.920693</td>\n",
       "      <td>30.756415</td>\n",
       "      <td>21.659447</td>\n",
       "      <td>9.663446</td>\n",
       "    </tr>\n",
       "    <tr>\n",
       "      <th>7</th>\n",
       "      <td>8</td>\n",
       "      <td>Wii Play</td>\n",
       "      <td>Wii</td>\n",
       "      <td>2006</td>\n",
       "      <td>Misc</td>\n",
       "      <td>Nintendo</td>\n",
       "      <td>14.03</td>\n",
       "      <td>9.20</td>\n",
       "      <td>2.93</td>\n",
       "      <td>2.85</td>\n",
       "      <td>29.01</td>\n",
       "      <td>NA_Sales</td>\n",
       "      <td>High</td>\n",
       "      <td>2000</td>\n",
       "      <td>48.362634</td>\n",
       "      <td>31.713202</td>\n",
       "      <td>10.099966</td>\n",
       "      <td>9.824199</td>\n",
       "    </tr>\n",
       "    <tr>\n",
       "      <th>8</th>\n",
       "      <td>9</td>\n",
       "      <td>New Super Mario Bros. Wii</td>\n",
       "      <td>Wii</td>\n",
       "      <td>2009</td>\n",
       "      <td>Platform</td>\n",
       "      <td>Nintendo</td>\n",
       "      <td>14.59</td>\n",
       "      <td>7.06</td>\n",
       "      <td>4.70</td>\n",
       "      <td>2.26</td>\n",
       "      <td>28.61</td>\n",
       "      <td>NA_Sales</td>\n",
       "      <td>High</td>\n",
       "      <td>2000</td>\n",
       "      <td>50.996155</td>\n",
       "      <td>24.676686</td>\n",
       "      <td>16.427822</td>\n",
       "      <td>7.899336</td>\n",
       "    </tr>\n",
       "    <tr>\n",
       "      <th>9</th>\n",
       "      <td>10</td>\n",
       "      <td>Duck Hunt</td>\n",
       "      <td>NES</td>\n",
       "      <td>1984</td>\n",
       "      <td>Shooter</td>\n",
       "      <td>Nintendo</td>\n",
       "      <td>26.93</td>\n",
       "      <td>0.63</td>\n",
       "      <td>0.28</td>\n",
       "      <td>0.47</td>\n",
       "      <td>28.31</td>\n",
       "      <td>NA_Sales</td>\n",
       "      <td>High</td>\n",
       "      <td>1980</td>\n",
       "      <td>95.125397</td>\n",
       "      <td>2.225362</td>\n",
       "      <td>0.989050</td>\n",
       "      <td>1.660191</td>\n",
       "    </tr>\n",
       "  </tbody>\n",
       "</table>\n",
       "</div>"
      ],
      "text/plain": [
       "   Rank                       Name Platform  Year         Genre Publisher  \\\n",
       "0     1                 Wii Sports      Wii  2006        Sports  Nintendo   \n",
       "1     2          Super Mario Bros.      NES  1985      Platform  Nintendo   \n",
       "2     3             Mario Kart Wii      Wii  2008        Racing  Nintendo   \n",
       "3     4          Wii Sports Resort      Wii  2009        Sports  Nintendo   \n",
       "4     5   Pokemon Red/Pokemon Blue       GB  1996  Role-Playing  Nintendo   \n",
       "5     6                     Tetris       GB  1989        Puzzle  Nintendo   \n",
       "6     7      New Super Mario Bros.       DS  2006      Platform  Nintendo   \n",
       "7     8                   Wii Play      Wii  2006          Misc  Nintendo   \n",
       "8     9  New Super Mario Bros. Wii      Wii  2009      Platform  Nintendo   \n",
       "9    10                  Duck Hunt      NES  1984       Shooter  Nintendo   \n",
       "\n",
       "   NA_Sales  EU_Sales  JP_Sales  Other_Sales  Global_Sales Top_Region  \\\n",
       "0     41.49     29.02      3.77         8.46         82.74   NA_Sales   \n",
       "1     29.08      3.58      6.81         0.77         40.24   NA_Sales   \n",
       "2     15.85     12.88      3.79         3.31         35.83   NA_Sales   \n",
       "3     15.75     11.01      3.28         2.96         33.00   NA_Sales   \n",
       "4     11.27      8.89     10.22         1.00         31.38   NA_Sales   \n",
       "5     23.20      2.26      4.22         0.58         30.26   NA_Sales   \n",
       "6     11.38      9.23      6.50         2.90         30.01   NA_Sales   \n",
       "7     14.03      9.20      2.93         2.85         29.01   NA_Sales   \n",
       "8     14.59      7.06      4.70         2.26         28.61   NA_Sales   \n",
       "9     26.93      0.63      0.28         0.47         28.31   NA_Sales   \n",
       "\n",
       "  Sales_Category  Decade   NA_Share   EU_Share   JP_Share  Other_Share  \n",
       "0           High    2000  50.145033  35.073725   4.556442    10.224801  \n",
       "1           High    1980  72.266402   8.896620  16.923459     1.913519  \n",
       "2           High    2000  44.236673  35.947530  10.577728     9.238069  \n",
       "3           High    2000  47.727273  33.363636   9.939394     8.969697  \n",
       "4           High    1990  35.914595  28.330147  32.568515     3.186743  \n",
       "5           High    1980  76.668870   7.468605  13.945803     1.916722  \n",
       "6           High    2000  37.920693  30.756415  21.659447     9.663446  \n",
       "7           High    2000  48.362634  31.713202  10.099966     9.824199  \n",
       "8           High    2000  50.996155  24.676686  16.427822     7.899336  \n",
       "9           High    1980  95.125397   2.225362   0.989050     1.660191  "
      ]
     },
     "execution_count": 141,
     "metadata": {},
     "output_type": "execute_result"
    }
   ],
   "source": [
    "df.sort_values(\"Global_Sales\", ascending=False).head(10)\n"
   ]
  },
  {
   "cell_type": "markdown",
   "id": "b7f4d1b3",
   "metadata": {},
   "source": [
    "2. Which platform has the highest number of games released?"
   ]
  },
  {
   "cell_type": "code",
   "execution_count": 142,
   "id": "5945e6ca",
   "metadata": {},
   "outputs": [
    {
     "data": {
      "text/plain": [
       "Platform\n",
       "DS      2163\n",
       "PS2     2161\n",
       "PS3     1329\n",
       "Wii     1325\n",
       "X360    1265\n",
       "PSP     1213\n",
       "PS      1196\n",
       "PC       960\n",
       "XB       824\n",
       "GBA      822\n",
       "Name: count, dtype: int64"
      ]
     },
     "execution_count": 142,
     "metadata": {},
     "output_type": "execute_result"
    }
   ],
   "source": [
    "df['Platform'].value_counts().head(10)\n"
   ]
  },
  {
   "cell_type": "markdown",
   "id": "c22a6052",
   "metadata": {},
   "source": [
    "3. What is the total global sales by genre?"
   ]
  },
  {
   "cell_type": "code",
   "execution_count": 143,
   "id": "3cce366f",
   "metadata": {},
   "outputs": [
    {
     "data": {
      "text/plain": [
       "Genre\n",
       "Action          1751.21\n",
       "Sports          1331.07\n",
       "Shooter         1037.38\n",
       "Role-Playing     927.54\n",
       "Platform         831.25\n",
       "Misc             809.40\n",
       "Racing           732.06\n",
       "Fighting         448.93\n",
       "Simulation       392.12\n",
       "Puzzle           244.77\n",
       "Adventure        239.07\n",
       "Strategy         175.03\n",
       "Name: Global_Sales, dtype: float64"
      ]
     },
     "execution_count": 143,
     "metadata": {},
     "output_type": "execute_result"
    }
   ],
   "source": [
    "df.groupby('Genre')['Global_Sales'].sum().sort_values(ascending=False)\n"
   ]
  },
  {
   "cell_type": "markdown",
   "id": "e246160d",
   "metadata": {},
   "source": [
    "4. What are the top 5 publishers by average global sales per game?\n",
    "\n"
   ]
  },
  {
   "cell_type": "code",
   "execution_count": 144,
   "id": "15efcccd",
   "metadata": {},
   "outputs": [
    {
     "data": {
      "text/plain": [
       "Publisher\n",
       "Palcom                 4.170000\n",
       "Red Orb                2.620000\n",
       "Nintendo               2.541294\n",
       "Arena Entertainment    2.360000\n",
       "UEP Systems            2.260000\n",
       "Name: Global_Sales, dtype: float64"
      ]
     },
     "execution_count": 144,
     "metadata": {},
     "output_type": "execute_result"
    }
   ],
   "source": [
    "df.groupby('Publisher')['Global_Sales'].mean().sort_values(ascending=False).head(5)\n"
   ]
  },
  {
   "cell_type": "markdown",
   "id": "fe4394f0",
   "metadata": {},
   "source": [
    "5. How many games were released each year?"
   ]
  },
  {
   "cell_type": "code",
   "execution_count": 145,
   "id": "05a892ec",
   "metadata": {},
   "outputs": [
    {
     "data": {
      "text/plain": [
       "Year\n",
       "1980       9\n",
       "1981      46\n",
       "1982      36\n",
       "1983      17\n",
       "1984      14\n",
       "1985      14\n",
       "1986      21\n",
       "1987      16\n",
       "1988      15\n",
       "1989      17\n",
       "1990      16\n",
       "1991      41\n",
       "1992      43\n",
       "1993      60\n",
       "1994     121\n",
       "1995     219\n",
       "1996     263\n",
       "1997     289\n",
       "1998     379\n",
       "1999     338\n",
       "2000     349\n",
       "2001     482\n",
       "2002     829\n",
       "2003     775\n",
       "2004     763\n",
       "2005     941\n",
       "2006    1008\n",
       "2007    1202\n",
       "2008    1428\n",
       "2009    1702\n",
       "2010    1259\n",
       "2011    1139\n",
       "2012     657\n",
       "2013     546\n",
       "2014     582\n",
       "2015     614\n",
       "2016     344\n",
       "2017       3\n",
       "2020       1\n",
       "Name: count, dtype: int64"
      ]
     },
     "execution_count": 145,
     "metadata": {},
     "output_type": "execute_result"
    }
   ],
   "source": [
    "df['Year'].value_counts().sort_index()\n"
   ]
  },
  {
   "cell_type": "markdown",
   "id": "0841aea6",
   "metadata": {},
   "source": [
    "6. What is the trend of global sales over the years?\n",
    "\n"
   ]
  },
  {
   "cell_type": "code",
   "execution_count": 146,
   "id": "decd5305",
   "metadata": {},
   "outputs": [
    {
     "data": {
      "text/plain": [
       "Year\n",
       "1980     11.39\n",
       "1981     35.73\n",
       "1982     28.89\n",
       "1983     16.80\n",
       "1984     50.36\n",
       "1985     53.95\n",
       "1986     37.08\n",
       "1987     21.72\n",
       "1988     47.22\n",
       "1989     73.45\n",
       "1990     49.38\n",
       "1991     32.24\n",
       "1992     76.16\n",
       "1993     45.99\n",
       "1994     79.19\n",
       "1995     88.14\n",
       "1996    199.24\n",
       "1997    201.14\n",
       "1998    256.41\n",
       "1999    251.20\n",
       "2000    201.73\n",
       "2001    331.52\n",
       "2002    395.33\n",
       "2003    357.90\n",
       "2004    419.19\n",
       "2005    459.91\n",
       "2006    521.03\n",
       "2007    610.81\n",
       "2008    678.62\n",
       "2009    767.27\n",
       "2010    600.33\n",
       "2011    516.06\n",
       "2012    363.50\n",
       "2013    368.15\n",
       "2014    337.14\n",
       "2015    264.33\n",
       "2016     70.99\n",
       "2017      0.05\n",
       "2020      0.29\n",
       "Name: Global_Sales, dtype: float64"
      ]
     },
     "execution_count": 146,
     "metadata": {},
     "output_type": "execute_result"
    }
   ],
   "source": [
    "df.groupby('Year')['Global_Sales'].sum()\n"
   ]
  },
  {
   "cell_type": "markdown",
   "id": "95920a43",
   "metadata": {},
   "source": [
    "7. Which year had the highest number of high-selling games?"
   ]
  },
  {
   "cell_type": "code",
   "execution_count": 147,
   "id": "3521f72c",
   "metadata": {},
   "outputs": [
    {
     "data": {
      "text/plain": [
       "Year\n",
       "1984    1\n",
       "1985    1\n",
       "1989    1\n",
       "1990    1\n",
       "1996    1\n",
       "1999    1\n",
       "2004    1\n",
       "2005    3\n",
       "2006    3\n",
       "2007    1\n",
       "2008    1\n",
       "2009    3\n",
       "2010    1\n",
       "2013    1\n",
       "Name: count, dtype: int64"
      ]
     },
     "execution_count": 147,
     "metadata": {},
     "output_type": "execute_result"
    }
   ],
   "source": [
    "df[df['Sales_Category'] == 'High']['Year'].value_counts().sort_index()\n"
   ]
  },
  {
   "cell_type": "markdown",
   "id": "1c076664",
   "metadata": {},
   "source": [
    "8. Which games contain the word “Mario” in their title?"
   ]
  },
  {
   "cell_type": "code",
   "execution_count": 148,
   "id": "191b5f61",
   "metadata": {},
   "outputs": [
    {
     "data": {
      "text/html": [
       "<div>\n",
       "<style scoped>\n",
       "    .dataframe tbody tr th:only-of-type {\n",
       "        vertical-align: middle;\n",
       "    }\n",
       "\n",
       "    .dataframe tbody tr th {\n",
       "        vertical-align: top;\n",
       "    }\n",
       "\n",
       "    .dataframe thead th {\n",
       "        text-align: right;\n",
       "    }\n",
       "</style>\n",
       "<table border=\"1\" class=\"dataframe\">\n",
       "  <thead>\n",
       "    <tr style=\"text-align: right;\">\n",
       "      <th></th>\n",
       "      <th>Rank</th>\n",
       "      <th>Name</th>\n",
       "      <th>Platform</th>\n",
       "      <th>Year</th>\n",
       "      <th>Genre</th>\n",
       "      <th>Publisher</th>\n",
       "      <th>NA_Sales</th>\n",
       "      <th>EU_Sales</th>\n",
       "      <th>JP_Sales</th>\n",
       "      <th>Other_Sales</th>\n",
       "      <th>Global_Sales</th>\n",
       "      <th>Top_Region</th>\n",
       "      <th>Sales_Category</th>\n",
       "      <th>Decade</th>\n",
       "      <th>NA_Share</th>\n",
       "      <th>EU_Share</th>\n",
       "      <th>JP_Share</th>\n",
       "      <th>Other_Share</th>\n",
       "    </tr>\n",
       "  </thead>\n",
       "  <tbody>\n",
       "    <tr>\n",
       "      <th>1</th>\n",
       "      <td>2</td>\n",
       "      <td>Super Mario Bros.</td>\n",
       "      <td>NES</td>\n",
       "      <td>1985</td>\n",
       "      <td>Platform</td>\n",
       "      <td>Nintendo</td>\n",
       "      <td>29.08</td>\n",
       "      <td>3.58</td>\n",
       "      <td>6.81</td>\n",
       "      <td>0.77</td>\n",
       "      <td>40.24</td>\n",
       "      <td>NA_Sales</td>\n",
       "      <td>High</td>\n",
       "      <td>1980</td>\n",
       "      <td>72.266402</td>\n",
       "      <td>8.896620</td>\n",
       "      <td>16.923459</td>\n",
       "      <td>1.913519</td>\n",
       "    </tr>\n",
       "    <tr>\n",
       "      <th>2</th>\n",
       "      <td>3</td>\n",
       "      <td>Mario Kart Wii</td>\n",
       "      <td>Wii</td>\n",
       "      <td>2008</td>\n",
       "      <td>Racing</td>\n",
       "      <td>Nintendo</td>\n",
       "      <td>15.85</td>\n",
       "      <td>12.88</td>\n",
       "      <td>3.79</td>\n",
       "      <td>3.31</td>\n",
       "      <td>35.83</td>\n",
       "      <td>NA_Sales</td>\n",
       "      <td>High</td>\n",
       "      <td>2000</td>\n",
       "      <td>44.236673</td>\n",
       "      <td>35.947530</td>\n",
       "      <td>10.577728</td>\n",
       "      <td>9.238069</td>\n",
       "    </tr>\n",
       "    <tr>\n",
       "      <th>6</th>\n",
       "      <td>7</td>\n",
       "      <td>New Super Mario Bros.</td>\n",
       "      <td>DS</td>\n",
       "      <td>2006</td>\n",
       "      <td>Platform</td>\n",
       "      <td>Nintendo</td>\n",
       "      <td>11.38</td>\n",
       "      <td>9.23</td>\n",
       "      <td>6.50</td>\n",
       "      <td>2.90</td>\n",
       "      <td>30.01</td>\n",
       "      <td>NA_Sales</td>\n",
       "      <td>High</td>\n",
       "      <td>2000</td>\n",
       "      <td>37.920693</td>\n",
       "      <td>30.756415</td>\n",
       "      <td>21.659447</td>\n",
       "      <td>9.663446</td>\n",
       "    </tr>\n",
       "    <tr>\n",
       "      <th>8</th>\n",
       "      <td>9</td>\n",
       "      <td>New Super Mario Bros. Wii</td>\n",
       "      <td>Wii</td>\n",
       "      <td>2009</td>\n",
       "      <td>Platform</td>\n",
       "      <td>Nintendo</td>\n",
       "      <td>14.59</td>\n",
       "      <td>7.06</td>\n",
       "      <td>4.70</td>\n",
       "      <td>2.26</td>\n",
       "      <td>28.61</td>\n",
       "      <td>NA_Sales</td>\n",
       "      <td>High</td>\n",
       "      <td>2000</td>\n",
       "      <td>50.996155</td>\n",
       "      <td>24.676686</td>\n",
       "      <td>16.427822</td>\n",
       "      <td>7.899336</td>\n",
       "    </tr>\n",
       "    <tr>\n",
       "      <th>11</th>\n",
       "      <td>12</td>\n",
       "      <td>Mario Kart DS</td>\n",
       "      <td>DS</td>\n",
       "      <td>2005</td>\n",
       "      <td>Racing</td>\n",
       "      <td>Nintendo</td>\n",
       "      <td>9.81</td>\n",
       "      <td>7.57</td>\n",
       "      <td>4.13</td>\n",
       "      <td>1.92</td>\n",
       "      <td>23.42</td>\n",
       "      <td>NA_Sales</td>\n",
       "      <td>High</td>\n",
       "      <td>2000</td>\n",
       "      <td>41.887276</td>\n",
       "      <td>32.322801</td>\n",
       "      <td>17.634500</td>\n",
       "      <td>8.198121</td>\n",
       "    </tr>\n",
       "    <tr>\n",
       "      <th>...</th>\n",
       "      <td>...</td>\n",
       "      <td>...</td>\n",
       "      <td>...</td>\n",
       "      <td>...</td>\n",
       "      <td>...</td>\n",
       "      <td>...</td>\n",
       "      <td>...</td>\n",
       "      <td>...</td>\n",
       "      <td>...</td>\n",
       "      <td>...</td>\n",
       "      <td>...</td>\n",
       "      <td>...</td>\n",
       "      <td>...</td>\n",
       "      <td>...</td>\n",
       "      <td>...</td>\n",
       "      <td>...</td>\n",
       "      <td>...</td>\n",
       "      <td>...</td>\n",
       "    </tr>\n",
       "    <tr>\n",
       "      <th>12770</th>\n",
       "      <td>12772</td>\n",
       "      <td>Dance Dance Revolution: Mario Mix (JP sales)</td>\n",
       "      <td>GC</td>\n",
       "      <td>2005</td>\n",
       "      <td>Simulation</td>\n",
       "      <td>Nintendo</td>\n",
       "      <td>0.00</td>\n",
       "      <td>0.00</td>\n",
       "      <td>0.05</td>\n",
       "      <td>0.00</td>\n",
       "      <td>0.06</td>\n",
       "      <td>JP_Sales</td>\n",
       "      <td>Low</td>\n",
       "      <td>2000</td>\n",
       "      <td>0.000000</td>\n",
       "      <td>0.000000</td>\n",
       "      <td>83.333333</td>\n",
       "      <td>0.000000</td>\n",
       "    </tr>\n",
       "    <tr>\n",
       "      <th>13273</th>\n",
       "      <td>13275</td>\n",
       "      <td>Detective Conan: Marionette Symphony</td>\n",
       "      <td>3DS</td>\n",
       "      <td>2013</td>\n",
       "      <td>Adventure</td>\n",
       "      <td>Namco Bandai Games</td>\n",
       "      <td>0.00</td>\n",
       "      <td>0.00</td>\n",
       "      <td>0.05</td>\n",
       "      <td>0.00</td>\n",
       "      <td>0.05</td>\n",
       "      <td>JP_Sales</td>\n",
       "      <td>Low</td>\n",
       "      <td>2010</td>\n",
       "      <td>0.000000</td>\n",
       "      <td>0.000000</td>\n",
       "      <td>100.000000</td>\n",
       "      <td>0.000000</td>\n",
       "    </tr>\n",
       "    <tr>\n",
       "      <th>15261</th>\n",
       "      <td>15264</td>\n",
       "      <td>Mario Tennis</td>\n",
       "      <td>3DS</td>\n",
       "      <td>2009</td>\n",
       "      <td>Sports</td>\n",
       "      <td>Unknown</td>\n",
       "      <td>0.00</td>\n",
       "      <td>0.00</td>\n",
       "      <td>0.02</td>\n",
       "      <td>0.00</td>\n",
       "      <td>0.02</td>\n",
       "      <td>JP_Sales</td>\n",
       "      <td>Low</td>\n",
       "      <td>2000</td>\n",
       "      <td>0.000000</td>\n",
       "      <td>0.000000</td>\n",
       "      <td>100.000000</td>\n",
       "      <td>0.000000</td>\n",
       "    </tr>\n",
       "    <tr>\n",
       "      <th>16357</th>\n",
       "      <td>16360</td>\n",
       "      <td>Mario vs. Donkey Kong: Tipping Stars</td>\n",
       "      <td>WiiU</td>\n",
       "      <td>2015</td>\n",
       "      <td>Puzzle</td>\n",
       "      <td>Nintendo</td>\n",
       "      <td>0.00</td>\n",
       "      <td>0.00</td>\n",
       "      <td>0.01</td>\n",
       "      <td>0.00</td>\n",
       "      <td>0.01</td>\n",
       "      <td>JP_Sales</td>\n",
       "      <td>Low</td>\n",
       "      <td>2010</td>\n",
       "      <td>0.000000</td>\n",
       "      <td>0.000000</td>\n",
       "      <td>100.000000</td>\n",
       "      <td>0.000000</td>\n",
       "    </tr>\n",
       "    <tr>\n",
       "      <th>16542</th>\n",
       "      <td>16545</td>\n",
       "      <td>Mario &amp; Luigi: Paper Jam &amp; Mario Kart 7 Double...</td>\n",
       "      <td>3DS</td>\n",
       "      <td>2015</td>\n",
       "      <td>Misc</td>\n",
       "      <td>Nintendo</td>\n",
       "      <td>0.00</td>\n",
       "      <td>0.00</td>\n",
       "      <td>0.01</td>\n",
       "      <td>0.00</td>\n",
       "      <td>0.01</td>\n",
       "      <td>JP_Sales</td>\n",
       "      <td>Low</td>\n",
       "      <td>2010</td>\n",
       "      <td>0.000000</td>\n",
       "      <td>0.000000</td>\n",
       "      <td>100.000000</td>\n",
       "      <td>0.000000</td>\n",
       "    </tr>\n",
       "  </tbody>\n",
       "</table>\n",
       "<p>113 rows × 18 columns</p>\n",
       "</div>"
      ],
      "text/plain": [
       "        Rank                                               Name Platform  \\\n",
       "1          2                                  Super Mario Bros.      NES   \n",
       "2          3                                     Mario Kart Wii      Wii   \n",
       "6          7                              New Super Mario Bros.       DS   \n",
       "8          9                          New Super Mario Bros. Wii      Wii   \n",
       "11        12                                      Mario Kart DS       DS   \n",
       "...      ...                                                ...      ...   \n",
       "12770  12772       Dance Dance Revolution: Mario Mix (JP sales)       GC   \n",
       "13273  13275               Detective Conan: Marionette Symphony      3DS   \n",
       "15261  15264                                       Mario Tennis      3DS   \n",
       "16357  16360               Mario vs. Donkey Kong: Tipping Stars     WiiU   \n",
       "16542  16545  Mario & Luigi: Paper Jam & Mario Kart 7 Double...      3DS   \n",
       "\n",
       "       Year       Genre           Publisher  NA_Sales  EU_Sales  JP_Sales  \\\n",
       "1      1985    Platform            Nintendo     29.08      3.58      6.81   \n",
       "2      2008      Racing            Nintendo     15.85     12.88      3.79   \n",
       "6      2006    Platform            Nintendo     11.38      9.23      6.50   \n",
       "8      2009    Platform            Nintendo     14.59      7.06      4.70   \n",
       "11     2005      Racing            Nintendo      9.81      7.57      4.13   \n",
       "...     ...         ...                 ...       ...       ...       ...   \n",
       "12770  2005  Simulation            Nintendo      0.00      0.00      0.05   \n",
       "13273  2013   Adventure  Namco Bandai Games      0.00      0.00      0.05   \n",
       "15261  2009      Sports             Unknown      0.00      0.00      0.02   \n",
       "16357  2015      Puzzle            Nintendo      0.00      0.00      0.01   \n",
       "16542  2015        Misc            Nintendo      0.00      0.00      0.01   \n",
       "\n",
       "       Other_Sales  Global_Sales Top_Region Sales_Category  Decade   NA_Share  \\\n",
       "1             0.77         40.24   NA_Sales           High    1980  72.266402   \n",
       "2             3.31         35.83   NA_Sales           High    2000  44.236673   \n",
       "6             2.90         30.01   NA_Sales           High    2000  37.920693   \n",
       "8             2.26         28.61   NA_Sales           High    2000  50.996155   \n",
       "11            1.92         23.42   NA_Sales           High    2000  41.887276   \n",
       "...            ...           ...        ...            ...     ...        ...   \n",
       "12770         0.00          0.06   JP_Sales            Low    2000   0.000000   \n",
       "13273         0.00          0.05   JP_Sales            Low    2010   0.000000   \n",
       "15261         0.00          0.02   JP_Sales            Low    2000   0.000000   \n",
       "16357         0.00          0.01   JP_Sales            Low    2010   0.000000   \n",
       "16542         0.00          0.01   JP_Sales            Low    2010   0.000000   \n",
       "\n",
       "        EU_Share    JP_Share  Other_Share  \n",
       "1       8.896620   16.923459     1.913519  \n",
       "2      35.947530   10.577728     9.238069  \n",
       "6      30.756415   21.659447     9.663446  \n",
       "8      24.676686   16.427822     7.899336  \n",
       "11     32.322801   17.634500     8.198121  \n",
       "...          ...         ...          ...  \n",
       "12770   0.000000   83.333333     0.000000  \n",
       "13273   0.000000  100.000000     0.000000  \n",
       "15261   0.000000  100.000000     0.000000  \n",
       "16357   0.000000  100.000000     0.000000  \n",
       "16542   0.000000  100.000000     0.000000  \n",
       "\n",
       "[113 rows x 18 columns]"
      ]
     },
     "execution_count": 148,
     "metadata": {},
     "output_type": "execute_result"
    }
   ],
   "source": [
    "df[df['Name'].str.contains(\"Mario\", case=False, na=False)]\n"
   ]
  },
  {
   "cell_type": "markdown",
   "id": "cdb36610",
   "metadata": {},
   "source": [
    "9. How many unique publishers are there?"
   ]
  },
  {
   "cell_type": "code",
   "execution_count": 149,
   "id": "46ab2584",
   "metadata": {},
   "outputs": [
    {
     "data": {
      "text/plain": [
       "578"
      ]
     },
     "execution_count": 149,
     "metadata": {},
     "output_type": "execute_result"
    }
   ],
   "source": [
    "df['Publisher'].nunique()\n"
   ]
  },
  {
   "cell_type": "markdown",
   "id": "3ab12134",
   "metadata": {},
   "source": [
    "10. List all game titles that start with the word “Call”."
   ]
  },
  {
   "cell_type": "code",
   "execution_count": 150,
   "id": "a9e32509",
   "metadata": {},
   "outputs": [
    {
     "data": {
      "text/html": [
       "<div>\n",
       "<style scoped>\n",
       "    .dataframe tbody tr th:only-of-type {\n",
       "        vertical-align: middle;\n",
       "    }\n",
       "\n",
       "    .dataframe tbody tr th {\n",
       "        vertical-align: top;\n",
       "    }\n",
       "\n",
       "    .dataframe thead th {\n",
       "        text-align: right;\n",
       "    }\n",
       "</style>\n",
       "<table border=\"1\" class=\"dataframe\">\n",
       "  <thead>\n",
       "    <tr style=\"text-align: right;\">\n",
       "      <th></th>\n",
       "      <th>Rank</th>\n",
       "      <th>Name</th>\n",
       "      <th>Platform</th>\n",
       "      <th>Year</th>\n",
       "      <th>Genre</th>\n",
       "      <th>Publisher</th>\n",
       "      <th>NA_Sales</th>\n",
       "      <th>EU_Sales</th>\n",
       "      <th>JP_Sales</th>\n",
       "      <th>Other_Sales</th>\n",
       "      <th>Global_Sales</th>\n",
       "      <th>Top_Region</th>\n",
       "      <th>Sales_Category</th>\n",
       "      <th>Decade</th>\n",
       "      <th>NA_Share</th>\n",
       "      <th>EU_Share</th>\n",
       "      <th>JP_Share</th>\n",
       "      <th>Other_Share</th>\n",
       "    </tr>\n",
       "  </thead>\n",
       "  <tbody>\n",
       "    <tr>\n",
       "      <th>29</th>\n",
       "      <td>30</td>\n",
       "      <td>Call of Duty: Modern Warfare 3</td>\n",
       "      <td>X360</td>\n",
       "      <td>2011</td>\n",
       "      <td>Shooter</td>\n",
       "      <td>Activision</td>\n",
       "      <td>9.03</td>\n",
       "      <td>4.28</td>\n",
       "      <td>0.13</td>\n",
       "      <td>1.32</td>\n",
       "      <td>14.76</td>\n",
       "      <td>NA_Sales</td>\n",
       "      <td>Medium</td>\n",
       "      <td>2010</td>\n",
       "      <td>61.178862</td>\n",
       "      <td>28.997290</td>\n",
       "      <td>0.880759</td>\n",
       "      <td>8.943089</td>\n",
       "    </tr>\n",
       "    <tr>\n",
       "      <th>31</th>\n",
       "      <td>32</td>\n",
       "      <td>Call of Duty: Black Ops</td>\n",
       "      <td>X360</td>\n",
       "      <td>2010</td>\n",
       "      <td>Shooter</td>\n",
       "      <td>Activision</td>\n",
       "      <td>9.67</td>\n",
       "      <td>3.73</td>\n",
       "      <td>0.11</td>\n",
       "      <td>1.13</td>\n",
       "      <td>14.64</td>\n",
       "      <td>NA_Sales</td>\n",
       "      <td>Medium</td>\n",
       "      <td>2010</td>\n",
       "      <td>66.051913</td>\n",
       "      <td>25.478142</td>\n",
       "      <td>0.751366</td>\n",
       "      <td>7.718579</td>\n",
       "    </tr>\n",
       "    <tr>\n",
       "      <th>33</th>\n",
       "      <td>34</td>\n",
       "      <td>Call of Duty: Black Ops 3</td>\n",
       "      <td>PS4</td>\n",
       "      <td>2015</td>\n",
       "      <td>Shooter</td>\n",
       "      <td>Activision</td>\n",
       "      <td>5.77</td>\n",
       "      <td>5.81</td>\n",
       "      <td>0.35</td>\n",
       "      <td>2.31</td>\n",
       "      <td>14.24</td>\n",
       "      <td>EU_Sales</td>\n",
       "      <td>Medium</td>\n",
       "      <td>2010</td>\n",
       "      <td>40.519663</td>\n",
       "      <td>40.800562</td>\n",
       "      <td>2.457865</td>\n",
       "      <td>16.221910</td>\n",
       "    </tr>\n",
       "    <tr>\n",
       "      <th>34</th>\n",
       "      <td>35</td>\n",
       "      <td>Call of Duty: Black Ops II</td>\n",
       "      <td>PS3</td>\n",
       "      <td>2012</td>\n",
       "      <td>Shooter</td>\n",
       "      <td>Activision</td>\n",
       "      <td>4.99</td>\n",
       "      <td>5.88</td>\n",
       "      <td>0.65</td>\n",
       "      <td>2.52</td>\n",
       "      <td>14.04</td>\n",
       "      <td>EU_Sales</td>\n",
       "      <td>Medium</td>\n",
       "      <td>2010</td>\n",
       "      <td>35.541311</td>\n",
       "      <td>41.880342</td>\n",
       "      <td>4.629630</td>\n",
       "      <td>17.948718</td>\n",
       "    </tr>\n",
       "    <tr>\n",
       "      <th>35</th>\n",
       "      <td>36</td>\n",
       "      <td>Call of Duty: Black Ops II</td>\n",
       "      <td>X360</td>\n",
       "      <td>2012</td>\n",
       "      <td>Shooter</td>\n",
       "      <td>Activision</td>\n",
       "      <td>8.25</td>\n",
       "      <td>4.30</td>\n",
       "      <td>0.07</td>\n",
       "      <td>1.12</td>\n",
       "      <td>13.74</td>\n",
       "      <td>NA_Sales</td>\n",
       "      <td>Medium</td>\n",
       "      <td>2010</td>\n",
       "      <td>60.043668</td>\n",
       "      <td>31.295488</td>\n",
       "      <td>0.509461</td>\n",
       "      <td>8.151383</td>\n",
       "    </tr>\n",
       "    <tr>\n",
       "      <th>...</th>\n",
       "      <td>...</td>\n",
       "      <td>...</td>\n",
       "      <td>...</td>\n",
       "      <td>...</td>\n",
       "      <td>...</td>\n",
       "      <td>...</td>\n",
       "      <td>...</td>\n",
       "      <td>...</td>\n",
       "      <td>...</td>\n",
       "      <td>...</td>\n",
       "      <td>...</td>\n",
       "      <td>...</td>\n",
       "      <td>...</td>\n",
       "      <td>...</td>\n",
       "      <td>...</td>\n",
       "      <td>...</td>\n",
       "      <td>...</td>\n",
       "      <td>...</td>\n",
       "    </tr>\n",
       "    <tr>\n",
       "      <th>12639</th>\n",
       "      <td>12641</td>\n",
       "      <td>Call of Duty: The War Collection</td>\n",
       "      <td>X360</td>\n",
       "      <td>2010</td>\n",
       "      <td>Shooter</td>\n",
       "      <td>Activision</td>\n",
       "      <td>0.05</td>\n",
       "      <td>0.00</td>\n",
       "      <td>0.00</td>\n",
       "      <td>0.00</td>\n",
       "      <td>0.06</td>\n",
       "      <td>NA_Sales</td>\n",
       "      <td>Low</td>\n",
       "      <td>2010</td>\n",
       "      <td>83.333333</td>\n",
       "      <td>0.000000</td>\n",
       "      <td>0.000000</td>\n",
       "      <td>0.000000</td>\n",
       "    </tr>\n",
       "    <tr>\n",
       "      <th>14219</th>\n",
       "      <td>14222</td>\n",
       "      <td>Call of Juarez: Bound in Blood</td>\n",
       "      <td>PC</td>\n",
       "      <td>2009</td>\n",
       "      <td>Shooter</td>\n",
       "      <td>Ubisoft</td>\n",
       "      <td>0.00</td>\n",
       "      <td>0.03</td>\n",
       "      <td>0.00</td>\n",
       "      <td>0.01</td>\n",
       "      <td>0.04</td>\n",
       "      <td>EU_Sales</td>\n",
       "      <td>Low</td>\n",
       "      <td>2000</td>\n",
       "      <td>0.000000</td>\n",
       "      <td>75.000000</td>\n",
       "      <td>0.000000</td>\n",
       "      <td>25.000000</td>\n",
       "    </tr>\n",
       "    <tr>\n",
       "      <th>15598</th>\n",
       "      <td>15601</td>\n",
       "      <td>Call of Duty: Modern Warfare Trilogy</td>\n",
       "      <td>PS3</td>\n",
       "      <td>2016</td>\n",
       "      <td>Shooter</td>\n",
       "      <td>Activision</td>\n",
       "      <td>0.00</td>\n",
       "      <td>0.01</td>\n",
       "      <td>0.00</td>\n",
       "      <td>0.00</td>\n",
       "      <td>0.02</td>\n",
       "      <td>EU_Sales</td>\n",
       "      <td>Low</td>\n",
       "      <td>2010</td>\n",
       "      <td>0.000000</td>\n",
       "      <td>50.000000</td>\n",
       "      <td>0.000000</td>\n",
       "      <td>0.000000</td>\n",
       "    </tr>\n",
       "    <tr>\n",
       "      <th>15804</th>\n",
       "      <td>15807</td>\n",
       "      <td>Call of Duty: Modern Warfare Trilogy</td>\n",
       "      <td>X360</td>\n",
       "      <td>2016</td>\n",
       "      <td>Shooter</td>\n",
       "      <td>Activision</td>\n",
       "      <td>0.01</td>\n",
       "      <td>0.01</td>\n",
       "      <td>0.00</td>\n",
       "      <td>0.00</td>\n",
       "      <td>0.02</td>\n",
       "      <td>NA_Sales</td>\n",
       "      <td>Low</td>\n",
       "      <td>2010</td>\n",
       "      <td>50.000000</td>\n",
       "      <td>50.000000</td>\n",
       "      <td>0.000000</td>\n",
       "      <td>0.000000</td>\n",
       "    </tr>\n",
       "    <tr>\n",
       "      <th>16010</th>\n",
       "      <td>16013</td>\n",
       "      <td>Call of Juarez</td>\n",
       "      <td>PC</td>\n",
       "      <td>2006</td>\n",
       "      <td>Shooter</td>\n",
       "      <td>Ubisoft</td>\n",
       "      <td>0.00</td>\n",
       "      <td>0.01</td>\n",
       "      <td>0.00</td>\n",
       "      <td>0.00</td>\n",
       "      <td>0.01</td>\n",
       "      <td>EU_Sales</td>\n",
       "      <td>Low</td>\n",
       "      <td>2000</td>\n",
       "      <td>0.000000</td>\n",
       "      <td>100.000000</td>\n",
       "      <td>0.000000</td>\n",
       "      <td>0.000000</td>\n",
       "    </tr>\n",
       "  </tbody>\n",
       "</table>\n",
       "<p>72 rows × 18 columns</p>\n",
       "</div>"
      ],
      "text/plain": [
       "        Rank                                  Name Platform  Year    Genre  \\\n",
       "29        30        Call of Duty: Modern Warfare 3     X360  2011  Shooter   \n",
       "31        32               Call of Duty: Black Ops     X360  2010  Shooter   \n",
       "33        34             Call of Duty: Black Ops 3      PS4  2015  Shooter   \n",
       "34        35            Call of Duty: Black Ops II      PS3  2012  Shooter   \n",
       "35        36            Call of Duty: Black Ops II     X360  2012  Shooter   \n",
       "...      ...                                   ...      ...   ...      ...   \n",
       "12639  12641      Call of Duty: The War Collection     X360  2010  Shooter   \n",
       "14219  14222        Call of Juarez: Bound in Blood       PC  2009  Shooter   \n",
       "15598  15601  Call of Duty: Modern Warfare Trilogy      PS3  2016  Shooter   \n",
       "15804  15807  Call of Duty: Modern Warfare Trilogy     X360  2016  Shooter   \n",
       "16010  16013                        Call of Juarez       PC  2006  Shooter   \n",
       "\n",
       "        Publisher  NA_Sales  EU_Sales  JP_Sales  Other_Sales  Global_Sales  \\\n",
       "29     Activision      9.03      4.28      0.13         1.32         14.76   \n",
       "31     Activision      9.67      3.73      0.11         1.13         14.64   \n",
       "33     Activision      5.77      5.81      0.35         2.31         14.24   \n",
       "34     Activision      4.99      5.88      0.65         2.52         14.04   \n",
       "35     Activision      8.25      4.30      0.07         1.12         13.74   \n",
       "...           ...       ...       ...       ...          ...           ...   \n",
       "12639  Activision      0.05      0.00      0.00         0.00          0.06   \n",
       "14219     Ubisoft      0.00      0.03      0.00         0.01          0.04   \n",
       "15598  Activision      0.00      0.01      0.00         0.00          0.02   \n",
       "15804  Activision      0.01      0.01      0.00         0.00          0.02   \n",
       "16010     Ubisoft      0.00      0.01      0.00         0.00          0.01   \n",
       "\n",
       "      Top_Region Sales_Category  Decade   NA_Share    EU_Share  JP_Share  \\\n",
       "29      NA_Sales         Medium    2010  61.178862   28.997290  0.880759   \n",
       "31      NA_Sales         Medium    2010  66.051913   25.478142  0.751366   \n",
       "33      EU_Sales         Medium    2010  40.519663   40.800562  2.457865   \n",
       "34      EU_Sales         Medium    2010  35.541311   41.880342  4.629630   \n",
       "35      NA_Sales         Medium    2010  60.043668   31.295488  0.509461   \n",
       "...          ...            ...     ...        ...         ...       ...   \n",
       "12639   NA_Sales            Low    2010  83.333333    0.000000  0.000000   \n",
       "14219   EU_Sales            Low    2000   0.000000   75.000000  0.000000   \n",
       "15598   EU_Sales            Low    2010   0.000000   50.000000  0.000000   \n",
       "15804   NA_Sales            Low    2010  50.000000   50.000000  0.000000   \n",
       "16010   EU_Sales            Low    2000   0.000000  100.000000  0.000000   \n",
       "\n",
       "       Other_Share  \n",
       "29        8.943089  \n",
       "31        7.718579  \n",
       "33       16.221910  \n",
       "34       17.948718  \n",
       "35        8.151383  \n",
       "...            ...  \n",
       "12639     0.000000  \n",
       "14219    25.000000  \n",
       "15598     0.000000  \n",
       "15804     0.000000  \n",
       "16010     0.000000  \n",
       "\n",
       "[72 rows x 18 columns]"
      ]
     },
     "execution_count": 150,
     "metadata": {},
     "output_type": "execute_result"
    }
   ],
   "source": [
    "df[df['Name'].str.startswith(\"Call\", na=False)]\n"
   ]
  },
  {
   "cell_type": "markdown",
   "id": "fd62c6fa",
   "metadata": {},
   "source": [
    "# Data Visualization"
   ]
  },
  {
   "cell_type": "markdown",
   "id": "12feaa18",
   "metadata": {},
   "source": [
    "1. Which gaming platforms have the most game releases?\n",
    "\n"
   ]
  },
  {
   "cell_type": "code",
   "execution_count": 160,
   "id": "d560d6d4",
   "metadata": {},
   "outputs": [
    {
     "name": "stderr",
     "output_type": "stream",
     "text": [
      "C:\\Users\\vanda\\Flutter projects\\digitome_app\\ipykernel_24624\\3531408096.py:2: FutureWarning: \n",
      "\n",
      "Passing `palette` without assigning `hue` is deprecated and will be removed in v0.14.0. Assign the `x` variable to `hue` and set `legend=False` for the same effect.\n",
      "\n",
      "  c = sns.countplot(data=df, x='Platform', order=df['Platform'].value_counts().head(10).index, palette='Set2')\n"
     ]
    },
    {
     "data": {
      "image/png": "[encoded data removed]",
      "text/plain": [
       "<Figure size 1000x400 with 1 Axes>"
      ]
     },
     "metadata": {},
     "output_type": "display_data"
    }
   ],
   "source": [
    "plt.figure(figsize=(10, 4))\n",
    "c = sns.countplot(data=df, x='Platform', order=df['Platform'].value_counts().head(10).index, palette='Set2')\n",
    "c.bar_label(c.containers[0])\n",
    "plt.title('Top 10 Most Common Gaming Platforms')\n",
    "plt.xlabel('Platform')\n",
    "plt.ylabel('Number of Games')\n",
    "plt.xticks(rotation=45)\n",
    "plt.tight_layout()\n",
    "plt.show()\n"
   ]
  },
  {
   "cell_type": "markdown",
   "id": "7dcdd7c3",
   "metadata": {},
   "source": [
    "Observation:\n",
    "\n",
    "---> The DS, PS2, and Wii platforms have the highest number of game releases, showing their dominance and developer support during their time.\n",
    "\n"
   ]
  },
  {
   "cell_type": "markdown",
   "id": "049208b4",
   "metadata": {},
   "source": [
    "2. How do sales in North America compare to Europe?"
   ]
  },
  {
   "cell_type": "code",
   "execution_count": 181,
   "id": "d3e77cb6",
   "metadata": {},
   "outputs": [
    {
     "data": {
      "image/png": "[encoded data removed]",
      "text/plain": [
       "<Figure size 1000x500 with 1 Axes>"
      ]
     },
     "metadata": {},
     "output_type": "display_data"
    }
   ],
   "source": [
    "plt.figure(figsize=(10, 5))\n",
    "sns.scatterplot(data=df, x='NA_Sales', y='EU_Sales', alpha=0.5)\n",
    "plt.title('North America Sales vs Europe Sales')\n",
    "plt.xlabel('NA Sales (in millions)')\n",
    "plt.ylabel('EU Sales (in millions)')\n",
    "plt.grid(True)\n",
    "plt.tight_layout()\n",
    "plt.show()\n"
   ]
  },
  {
   "cell_type": "markdown",
   "id": "f124314a",
   "metadata": {},
   "source": [
    "Why does your scatter plot look like this?\n",
    "\n",
    "Because the sales data is extremely skewed:\n",
    "\n",
    "Most games sell very few units (under 2 million).\n",
    "\n",
    "A few games sell huge numbers (up to 40M+), causing the plot to stretch and compress all the lower values into a tight corner.\n",
    "\n",
    "That’s why you see a dense cluster near the origin (0,0) and just a few dots spread far out."
   ]
  },
  {
   "cell_type": "code",
   "execution_count": 182,
   "id": "b14bfb55",
   "metadata": {},
   "outputs": [
    {
     "data": {
      "image/png": "[encoded data removed]",
      "text/plain": [
       "<Figure size 1000x500 with 1 Axes>"
      ]
     },
     "metadata": {},
     "output_type": "display_data"
    }
   ],
   "source": [
    "plt.figure(figsize=(10, 5))\n",
    "sns.scatterplot(data=df, x='NA_Sales', y='EU_Sales', alpha=0.5)\n",
    "plt.xlim(0, 5)\n",
    "plt.ylim(0, 5)\n",
    "plt.title('Zoomed: NA Sales vs EU Sales')\n",
    "plt.xlabel('NA Sales (in millions)')\n",
    "plt.ylabel('EU Sales (in millions)')\n",
    "plt.grid(True)\n",
    "plt.tight_layout()\n",
    "plt.show()\n"
   ]
  },
  {
   "cell_type": "markdown",
   "id": "7f743ce3",
   "metadata": {},
   "source": [
    "Observation:\n",
    "\n",
    "---> This plot will now clearly show:\n",
    "\n",
    "---> A positive trend: higher NA sales often match higher EU sales.\n",
    "\n",
    "---> Most games sold under 5 million units in both regions.\n",
    "\n",
    "---> The outliers (huge-selling titles) are hidden here but can be shown separately if needed."
   ]
  },
  {
   "cell_type": "markdown",
   "id": "553ac59a",
   "metadata": {},
   "source": [
    "3. Which genres are the most successful globally on average?"
   ]
  },
  {
   "cell_type": "code",
   "execution_count": 186,
   "id": "c3476c96",
   "metadata": {},
   "outputs": [
    {
     "name": "stderr",
     "output_type": "stream",
     "text": [
      "C:\\Users\\vanda\\Flutter projects\\digitome_app\\ipykernel_24624\\3051899781.py:4: FutureWarning: \n",
      "\n",
      "Passing `palette` without assigning `hue` is deprecated and will be removed in v0.14.0. Assign the `x` variable to `hue` and set `legend=False` for the same effect.\n",
      "\n",
      "  bar = sns.barplot(data=df, x='Genre', y='Global_Sales', estimator=np.mean, palette='coolwarm')\n"
     ]
    },
    {
     "data": {
      "image/png": "[encoded data removed]",
      "text/plain": [
       "<Figure size 1200x600 with 1 Axes>"
      ]
     },
     "metadata": {},
     "output_type": "display_data"
    }
   ],
   "source": [
    "plt.figure(figsize=(12, 6))\n",
    "\n",
    "# Create bar plot\n",
    "bar = sns.barplot(data=df, x='Genre', y='Global_Sales', estimator=np.mean, palette='coolwarm')\n",
    "\n",
    "# Filter out very small bars from getting labels (threshold = 0.2)\n",
    "for container in bar.containers:\n",
    "    bar.bar_label(\n",
    "        container,\n",
    "        fmt='%.2f',\n",
    "        label_type='edge',\n",
    "        padding=3,\n",
    "        rotation=90,  # Optional: rotate for better visibility\n",
    "        labels=[\n",
    "            f'{height:.2f}' if height > 0.2 else ''  # Only label bars > 0.2\n",
    "            for height in container.datavalues\n",
    "        ]\n",
    "    )\n",
    "\n",
    "# Final touches\n",
    "plt.title('Average Global Sales by Genre')\n",
    "plt.xlabel('Genre')\n",
    "plt.ylabel('Avg Global Sales (in millions)')\n",
    "plt.xticks(rotation=45)\n",
    "plt.tight_layout()\n",
    "plt.show()\n",
    "\n"
   ]
  },
  {
   "cell_type": "markdown",
   "id": "f7170fd5",
   "metadata": {},
   "source": [
    "Observation:\n",
    "\n",
    "---> Shooter and Platform games have the highest average global sales, showing they are the most popular genres worldwide.\n",
    "\n",
    "---> Genres like Puzzle, Strategy, and Adventure have lower average sales, meaning they appeal to a smaller audience.\n",
    "\n",
    "---> This shows that fast-paced and action genres perform better in the global market."
   ]
  },
  {
   "cell_type": "markdown",
   "id": "ad621abe",
   "metadata": {},
   "source": [
    "4. How does game performance vary across platforms?"
   ]
  },
  {
   "cell_type": "code",
   "execution_count": 179,
   "id": "d6132d0f",
   "metadata": {},
   "outputs": [
    {
     "name": "stderr",
     "output_type": "stream",
     "text": [
      "C:\\Users\\vanda\\Flutter projects\\digitome_app\\ipykernel_24624\\864898726.py:6: FutureWarning: \n",
      "\n",
      "Passing `palette` without assigning `hue` is deprecated and will be removed in v0.14.0. Assign the `x` variable to `hue` and set `legend=False` for the same effect.\n",
      "\n",
      "  sns.boxplot(data=filtered_df, x='Platform', y='Global_Sales', palette='Set2')\n"
     ]
    },
    {
     "data": {
      "image/png": "[encoded data removed]",
      "text/plain": [
       "<Figure size 1000x600 with 1 Axes>"
      ]
     },
     "metadata": {},
     "output_type": "display_data"
    }
   ],
   "source": [
    "# Get top 10 platforms with the most games\n",
    "top_platforms = df['Platform'].value_counts().head(10).index\n",
    "filtered_df = df[df['Platform'].isin(top_platforms)]\n",
    "\n",
    "plt.figure(figsize=(10, 6))\n",
    "sns.boxplot(data=filtered_df, x='Platform', y='Global_Sales', palette='Set2')\n",
    "plt.title('Global Sales Distribution (Top 10 Platforms)')\n",
    "plt.xlabel('Platform')\n",
    "plt.ylabel('Global Sales (in millions)')\n",
    "plt.xticks(rotation=45)\n",
    "plt.tight_layout()\n",
    "plt.show()\n",
    "\n",
    "\n"
   ]
  },
  {
   "cell_type": "markdown",
   "id": "5c15483e",
   "metadata": {},
   "source": [
    "Why is your boxplot compressed like this?\n",
    "\n",
    "---> Because your data has a lot of extreme outliers (very high sales), especially games like Wii Sports with 80+ million sales, while most others sell under 1 million.\n",
    "\n",
    "This causes:\n",
    "\n",
    "The box to appear squished near the bottom (since it shows the interquartile range of small values).\n",
    "\n",
    "The outliers (circles) to dominate the plot vertically.\n",
    "\n",
    "The main data becomes visually \"invisible\" compared to the outliers."
   ]
  },
  {
   "cell_type": "code",
   "execution_count": 180,
   "id": "2c12e852",
   "metadata": {},
   "outputs": [
    {
     "name": "stderr",
     "output_type": "stream",
     "text": [
      "C:\\Users\\vanda\\Flutter projects\\digitome_app\\ipykernel_24624\\699801888.py:2: FutureWarning: \n",
      "\n",
      "Passing `palette` without assigning `hue` is deprecated and will be removed in v0.14.0. Assign the `x` variable to `hue` and set `legend=False` for the same effect.\n",
      "\n",
      "  sns.boxplot(data=filtered_df, x='Platform', y='Global_Sales', palette='Set2')\n"
     ]
    },
    {
     "data": {
      "image/png": "[encoded data removed]",
      "text/plain": [
       "<Figure size 1000x600 with 1 Axes>"
      ]
     },
     "metadata": {},
     "output_type": "display_data"
    }
   ],
   "source": [
    "plt.figure(figsize=(10, 6))\n",
    "sns.boxplot(data=filtered_df, x='Platform', y='Global_Sales', palette='Set2')\n",
    "plt.ylim(0, 5)  # Limit y-axis to exclude extreme outliers\n",
    "plt.title('Zoomed: Global Sales Distribution (Top 10 Platforms)')\n",
    "plt.xlabel('Platform')\n",
    "plt.ylabel('Global Sales (in millions)')\n",
    "plt.xticks(rotation=45)\n",
    "plt.tight_layout()\n",
    "plt.show()\n"
   ]
  },
  {
   "cell_type": "markdown",
   "id": "d4f9ffbf",
   "metadata": {},
   "source": [
    "Observation:\n",
    "\n",
    "---> Most games on all top 10 platforms sold less than 2 million units globally.\n",
    "\n",
    "---> Wii and DS platforms have a slightly higher average sales, while platforms like PC and PSP have lower and more consistent sales.\n",
    "\n",
    "---> This zoomed view helps clearly compare sales without the distraction of extreme outliers."
   ]
  },
  {
   "cell_type": "markdown",
   "id": "246503e8",
   "metadata": {},
   "source": [
    "5. Which game genres dominate the dataset?"
   ]
  },
  {
   "cell_type": "code",
   "execution_count": 173,
   "id": "b5492e07",
   "metadata": {},
   "outputs": [
    {
     "data": {
      "image/png": "[encoded data removed]",
      "text/plain": [
       "<Figure size 600x500 with 1 Axes>"
      ]
     },
     "metadata": {},
     "output_type": "display_data"
    }
   ],
   "source": [
    "genre_counts = df['Genre'].value_counts().head(6)\n",
    "\n",
    "plt.figure(figsize=(6, 5))\n",
    "plt.pie(genre_counts, labels=genre_counts.index, autopct='%1.1f%%', startangle=140)\n",
    "plt.title('Top 6 Video Game Genres by Count')\n",
    "plt.axis('equal')\n",
    "plt.show()\n"
   ]
  },
  {
   "cell_type": "markdown",
   "id": "8a655c81",
   "metadata": {},
   "source": [
    "Observation:\n",
    "\n",
    "---> Action, Sports, and Shooter games together make up a large chunk of releases, highlighting player interest in competitive and engaging content.\n",
    "\n"
   ]
  },
  {
   "cell_type": "markdown",
   "id": "b480b558",
   "metadata": {},
   "source": [
    "6. How strongly are sales in different regions correlated with global sales?"
   ]
  },
  {
   "cell_type": "code",
   "execution_count": 174,
   "id": "38ae1f81",
   "metadata": {},
   "outputs": [
    {
     "data": {
      "image/png": "[encoded data removed]",
      "text/plain": [
       "<Figure size 700x500 with 2 Axes>"
      ]
     },
     "metadata": {},
     "output_type": "display_data"
    }
   ],
   "source": [
    "plt.figure(figsize=(7, 5))\n",
    "corr = df[['NA_Sales', 'EU_Sales', 'JP_Sales', 'Other_Sales', 'Global_Sales']].corr()\n",
    "sns.heatmap(corr, annot=True, cmap='coolwarm', fmt='.2f')\n",
    "plt.title('Correlation Between Regional Sales')\n",
    "plt.tight_layout()\n",
    "plt.show()\n"
   ]
  },
  {
   "cell_type": "markdown",
   "id": "c766cfc1",
   "metadata": {},
   "source": [
    "Observation:\n",
    "\n",
    "---> Global_Sales is strongly correlated with both NA_Sales and EU_Sales, while JP_Sales has weaker correlation, indicating that global sales are more influenced by Western markets."
   ]
  },
  {
   "cell_type": "markdown",
   "id": "4465eaef",
   "metadata": {},
   "source": [
    "7. How do video game sales compare between North America and Europe?\n",
    "\n"
   ]
  },
  {
   "cell_type": "code",
   "execution_count": 178,
   "id": "35dbec30",
   "metadata": {},
   "outputs": [
    {
     "data": {
      "image/png": "[encoded data removed]",
      "text/plain": [
       "<Figure size 1000x500 with 1 Axes>"
      ]
     },
     "metadata": {},
     "output_type": "display_data"
    }
   ],
   "source": [
    "plt.figure(figsize=(10, 5))\n",
    "sns.kdeplot(df['NA_Sales'], label='North America', fill=True, color='blue')\n",
    "sns.kdeplot(df['EU_Sales'], label='Europe', fill=True, color='green')\n",
    "plt.xlim(0, 3)  # limit x-axis to focus on common values\n",
    "plt.title('Sales Distribution: North America vs Europe')\n",
    "plt.xlabel('Sales (in millions)')\n",
    "plt.ylabel('Density')\n",
    "plt.legend()\n",
    "plt.tight_layout()\n",
    "plt.show()\n"
   ]
  },
  {
   "cell_type": "markdown",
   "id": "519c15a4",
   "metadata": {},
   "source": [
    "Observation:\n",
    "\n",
    "---> The KDE plot shows that North America has a higher concentration of high-selling games compared to Europe. \n",
    "\n",
    "---> While both regions have most sales clustered below 1 million units, North America has a longer right tail, indicating more best-selling titles. \n",
    "\n",
    "---> Europe follows a similar trend but at slightly lower volumes."
   ]
  },
  {
   "cell_type": "markdown",
   "id": "23fbf1f9",
   "metadata": {},
   "source": [
    "# CONCLUSION"
   ]
  },
  {
   "cell_type": "markdown",
   "id": "26c846bc",
   "metadata": {},
   "source": [
    "---> This project explored global video game sales using data analysis and visualization techniques.\n",
    "\n",
    "---> We found that Shooter and Platform genres lead in average global sales, while North America and Europe are the most influential markets. \n",
    "\n",
    "---> Platforms like Wii, DS, and PS2 have consistently hosted high-selling games. Although some titles have massive global success, most games sell under 1 million units. \n",
    "\n",
    "---> The analysis highlights how genre, platform, and region all play a major role in a game's commercial performance. \n",
    "\n",
    "---> These insights can guide developers and publishers in targeting the right markets and genres for better success."
   ]
  },
  {
   "cell_type": "markdown",
   "id": "e8edf97e",
   "metadata": {},
   "source": []
  }
 ],
 "metadata": {
  "kernelspec": {
   "display_name": "Python 3",
   "language": "python",
   "name": "python3"
  },
  "language_info": {
   "codemirror_mode": {
    "name": "ipython",
    "version": 3
   },
   "file_extension": ".py",
   "mimetype": "text/x-python",
   "name": "python",
   "nbconvert_exporter": "python",
   "pygments_lexer": "ipython3",
   "version": "3.12.6"
  }
 },
 "nbformat": 4,
 "nbformat_minor": 5
}
